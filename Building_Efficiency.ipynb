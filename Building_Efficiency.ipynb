{
 "cells": [
  {
   "cell_type": "markdown",
   "metadata": {},
   "source": [
    "# Energy Efficiency of Building"
   ]
  },
  {
   "cell_type": "raw",
   "metadata": {},
   "source": [
    "Introduction\n",
    "\n",
    "This project is in a context of data scientist working with A real estate developer is interested in building energy efficient homes to take advantage of government energy efficiency grants or credits. This could also attract potential new home buyers interested in energy efficient homes to claim IRS Nonbusiness Tax Credit prior to its expiration on December 31, 2017.\n",
    "\n",
    "The data set for this project is from http://archive.ics.uci.edu/ml/datasets/Energy+efficiency with the following information:\n",
    "Source: The dataset was created by Angeliki Xifara (angxifara '@' gmail.com, Civil/Structural Engineer) and was processed by Athanasios Tsanas (tsanasthanasis '@' gmail.com, Oxford Centre for Industrial and Applied Mathematics, University of Oxford, UK).\n",
    "Abstract: This study looked into assessing the heating load and cooling load requirements of buildings (that is, energy efficiency) as a function of building parameters.\n",
    "“We perform energy analysis using 12 different building shapes simulated in Ecotect. The buildings differ with respect to the glazing area, the glazing area distribution, and the orientation, amongst other parameters. We simulate various settings as functions of the afore-mentioned characteristics to obtain 768 building shapes.”\n",
    "\n",
    "Attribute Information: The dataset contains eight attributes (or features, denoted by X1...X8) and two responses (or outcomes, denoted by y1 and y2). The aim is to use the eight features to predict each of the two responses.\n",
    "\n",
    "Specifically:\n",
    "X1 Relative Compactness\n",
    "X2 Surface Area\n",
    "X3 Wall Area\n",
    "X4 Roof Area\n",
    "X5 Overall Height\n",
    "X6 Orientation\n",
    "X7 Glazing Area\n",
    "X8 Glazing Area Distribution\n",
    "y1 Heating Load\n",
    "y2 Cooling Load\n",
    "The dataset comprises 768 samples and 8 features, aiming to predict two real valued responses. It can also be used as a multi-class classification problem if the response is rounded to the nearest integer.\n",
    "\n",
    "Business case\n",
    "\n",
    "1 What insights can be uncover from assessing energy efficiency of building based on the building parameters.\n",
    "2 Which of these parameters or features can be used to build optimized model to predict building energy effiency.\n",
    "3 Use historical data to predict heating and Cooling loads.\n",
    "\n"
   ]
  },
  {
   "cell_type": "markdown",
   "metadata": {},
   "source": [
    "## Load Data\n",
    "\n",
    "Load and inspect the data\n"
   ]
  },
  {
   "cell_type": "code",
   "execution_count": 318,
   "metadata": {},
   "outputs": [],
   "source": [
    "# Set to ignore warnings for deprecated code\n",
    "import warnings\n",
    "\n",
    "def fxn():\n",
    "    warnings.warn(\"deprecated\", DeprecationWarning)\n",
    "\n",
    "with warnings.catch_warnings():\n",
    "    warnings.simplefilter(\"ignore\")\n",
    "    fxn()\n"
   ]
  },
  {
   "cell_type": "code",
   "execution_count": 347,
   "metadata": {},
   "outputs": [],
   "source": [
    "# imports of lib. for model building\n",
    "# numpy, scipy, pandas, math, matplotlib\n",
    "import pandas as pd\n",
    "import numpy as np\n",
    "import matplotlib.pyplot as plt\n",
    "import seaborn as sns\n",
    "import scipy\n",
    "from math import sqrt\n",
    "\n",
    "# import estimators models\n",
    "from sklearn.ensemble import RandomForestRegressor\n",
    "from sklearn.linear_model import LinearRegression\n",
    "from sklearn import linear_model\n",
    "\n",
    "# cross validation of train and test sets\n",
    "from sklearn.model_selection import train_test_split, cross_val_score, KFold\n",
    "\n",
    "# This allows full output of a cell rather than than just the last result\n",
    "from IPython.core.interactiveshell import InteractiveShell\n",
    "InteractiveShell.ast_node_interactivity = \"all\"\n",
    "\n",
    "#model metrics\n",
    "from sklearn.metrics import mean_squared_error\n",
    "from sklearn.metrics import r2_score\n",
    "from sklearn.model_selection import cross_val_score\n",
    "from scipy import stats as st\n",
    "from scipy.stats import randint as sp_randint\n",
    "from scipy.stats import beta"
   ]
  },
  {
   "cell_type": "code",
   "execution_count": 320,
   "metadata": {},
   "outputs": [],
   "source": [
    "# This allows full output of a cell rather than than just the last result\n",
    "from IPython.core.interactiveshell import InteractiveShell\n",
    "InteractiveShell.ast_node_interactivity = \"all\""
   ]
  },
  {
   "cell_type": "code",
   "execution_count": 321,
   "metadata": {},
   "outputs": [],
   "source": [
    "# makes plots embedded in document in the 'seaborn-notebook' style\n",
    "%matplotlib inline\n",
    "plt.style.use('seaborn-notebook')\n",
    "plt.style.context('ggplot');"
   ]
  },
  {
   "cell_type": "raw",
   "metadata": {},
   "source": [
    "The data was provided is made public by the Oxford Centre for Industrial and Applied Mathematics, University of Oxford, UK. The training data and label along with the test set for the competition were provided in separate CSV files. These were imported into data frames using the pd.read_csv() function with row_id set as the index."
   ]
  },
  {
   "cell_type": "code",
   "execution_count": 322,
   "metadata": {},
   "outputs": [
    {
     "name": "stdout",
     "output_type": "stream",
     "text": [
      "      relativeCompactness  surfaceArea  wallArea  roofArea  overallHeight  \\\n",
      "0                    0.98        514.5     294.0    110.25            7.0   \n",
      "1                    0.98        514.5     294.0    110.25            7.0   \n",
      "2                    0.98        514.5     294.0    110.25            7.0   \n",
      "3                    0.98        514.5     294.0    110.25            7.0   \n",
      "4                    0.90        563.5     318.5    122.50            7.0   \n",
      "5                    0.90        563.5     318.5    122.50            7.0   \n",
      "6                    0.90        563.5     318.5    122.50            7.0   \n",
      "7                    0.90        563.5     318.5    122.50            7.0   \n",
      "8                    0.86        588.0     294.0    147.00            7.0   \n",
      "9                    0.86        588.0     294.0    147.00            7.0   \n",
      "10                   0.86        588.0     294.0    147.00            7.0   \n",
      "11                   0.86        588.0     294.0    147.00            7.0   \n",
      "12                   0.82        612.5     318.5    147.00            7.0   \n",
      "13                   0.82        612.5     318.5    147.00            7.0   \n",
      "14                   0.82        612.5     318.5    147.00            7.0   \n",
      "15                   0.82        612.5     318.5    147.00            7.0   \n",
      "16                   0.79        637.0     343.0    147.00            7.0   \n",
      "17                   0.79        637.0     343.0    147.00            7.0   \n",
      "18                   0.79        637.0     343.0    147.00            7.0   \n",
      "19                   0.79        637.0     343.0    147.00            7.0   \n",
      "20                   0.76        661.5     416.5    122.50            7.0   \n",
      "21                   0.76        661.5     416.5    122.50            7.0   \n",
      "22                   0.76        661.5     416.5    122.50            7.0   \n",
      "23                   0.76        661.5     416.5    122.50            7.0   \n",
      "24                   0.74        686.0     245.0    220.50            3.5   \n",
      "25                   0.74        686.0     245.0    220.50            3.5   \n",
      "26                   0.74        686.0     245.0    220.50            3.5   \n",
      "27                   0.74        686.0     245.0    220.50            3.5   \n",
      "28                   0.71        710.5     269.5    220.50            3.5   \n",
      "29                   0.71        710.5     269.5    220.50            3.5   \n",
      "..                    ...          ...       ...       ...            ...   \n",
      "738                  0.79        637.0     343.0    147.00            7.0   \n",
      "739                  0.79        637.0     343.0    147.00            7.0   \n",
      "740                  0.76        661.5     416.5    122.50            7.0   \n",
      "741                  0.76        661.5     416.5    122.50            7.0   \n",
      "742                  0.76        661.5     416.5    122.50            7.0   \n",
      "743                  0.76        661.5     416.5    122.50            7.0   \n",
      "744                  0.74        686.0     245.0    220.50            3.5   \n",
      "745                  0.74        686.0     245.0    220.50            3.5   \n",
      "746                  0.74        686.0     245.0    220.50            3.5   \n",
      "747                  0.74        686.0     245.0    220.50            3.5   \n",
      "748                  0.71        710.5     269.5    220.50            3.5   \n",
      "749                  0.71        710.5     269.5    220.50            3.5   \n",
      "750                  0.71        710.5     269.5    220.50            3.5   \n",
      "751                  0.71        710.5     269.5    220.50            3.5   \n",
      "752                  0.69        735.0     294.0    220.50            3.5   \n",
      "753                  0.69        735.0     294.0    220.50            3.5   \n",
      "754                  0.69        735.0     294.0    220.50            3.5   \n",
      "755                  0.69        735.0     294.0    220.50            3.5   \n",
      "756                  0.66        759.5     318.5    220.50            3.5   \n",
      "757                  0.66        759.5     318.5    220.50            3.5   \n",
      "758                  0.66        759.5     318.5    220.50            3.5   \n",
      "759                  0.66        759.5     318.5    220.50            3.5   \n",
      "760                  0.64        784.0     343.0    220.50            3.5   \n",
      "761                  0.64        784.0     343.0    220.50            3.5   \n",
      "762                  0.64        784.0     343.0    220.50            3.5   \n",
      "763                  0.64        784.0     343.0    220.50            3.5   \n",
      "764                  0.62        808.5     367.5    220.50            3.5   \n",
      "765                  0.62        808.5     367.5    220.50            3.5   \n",
      "766                  0.62        808.5     367.5    220.50            3.5   \n",
      "767                  0.62        808.5     367.5    220.50            3.5   \n",
      "\n",
      "     Orientation  glazingArea  glazingAreaDist     Y1     Y2  \n",
      "0              2          0.0                0  15.55  21.33  \n",
      "1              3          0.0                0  15.55  21.33  \n",
      "2              4          0.0                0  15.55  21.33  \n",
      "3              5          0.0                0  15.55  21.33  \n",
      "4              2          0.0                0  20.84  28.28  \n",
      "5              3          0.0                0  21.46  25.38  \n",
      "6              4          0.0                0  20.71  25.16  \n",
      "7              5          0.0                0  19.68  29.60  \n",
      "8              2          0.0                0  19.50  27.30  \n",
      "9              3          0.0                0  19.95  21.97  \n",
      "10             4          0.0                0  19.34  23.49  \n",
      "11             5          0.0                0  18.31  27.87  \n",
      "12             2          0.0                0  17.05  23.77  \n",
      "13             3          0.0                0  17.41  21.46  \n",
      "14             4          0.0                0  16.95  21.16  \n",
      "15             5          0.0                0  15.98  24.93  \n",
      "16             2          0.0                0  28.52  37.73  \n",
      "17             3          0.0                0  29.90  31.27  \n",
      "18             4          0.0                0  29.63  30.93  \n",
      "19             5          0.0                0  28.75  39.44  \n",
      "20             2          0.0                0  24.77  29.79  \n",
      "21             3          0.0                0  23.93  29.68  \n",
      "22             4          0.0                0  24.77  29.79  \n",
      "23             5          0.0                0  23.93  29.40  \n",
      "24             2          0.0                0   6.07  10.90  \n",
      "25             3          0.0                0   6.05  11.19  \n",
      "26             4          0.0                0   6.01  10.94  \n",
      "27             5          0.0                0   6.04  11.17  \n",
      "28             2          0.0                0   6.37  11.27  \n",
      "29             3          0.0                0   6.40  11.72  \n",
      "..           ...          ...              ...    ...    ...  \n",
      "738            4          0.4                5  41.09  47.01  \n",
      "739            5          0.4                5  40.79  44.87  \n",
      "740            2          0.4                5  38.82  39.37  \n",
      "741            3          0.4                5  39.72  39.80  \n",
      "742            4          0.4                5  39.31  37.79  \n",
      "743            5          0.4                5  39.86  38.18  \n",
      "744            2          0.4                5  14.41  16.69  \n",
      "745            3          0.4                5  14.19  16.62  \n",
      "746            4          0.4                5  14.17  16.94  \n",
      "747            5          0.4                5  14.39  16.70  \n",
      "748            2          0.4                5  12.43  15.59  \n",
      "749            3          0.4                5  12.63  14.58  \n",
      "750            4          0.4                5  12.76  15.33  \n",
      "751            5          0.4                5  12.42  15.31  \n",
      "752            2          0.4                5  14.12  16.63  \n",
      "753            3          0.4                5  14.28  15.87  \n",
      "754            4          0.4                5  14.37  16.54  \n",
      "755            5          0.4                5  14.21  16.74  \n",
      "756            2          0.4                5  14.96  17.64  \n",
      "757            3          0.4                5  14.92  17.79  \n",
      "758            4          0.4                5  14.92  17.55  \n",
      "759            5          0.4                5  15.16  18.06  \n",
      "760            2          0.4                5  17.69  20.82  \n",
      "761            3          0.4                5  18.19  20.21  \n",
      "762            4          0.4                5  18.16  20.71  \n",
      "763            5          0.4                5  17.88  21.40  \n",
      "764            2          0.4                5  16.54  16.88  \n",
      "765            3          0.4                5  16.44  17.11  \n",
      "766            4          0.4                5  16.48  16.61  \n",
      "767            5          0.4                5  16.64  16.03  \n",
      "\n",
      "[768 rows x 10 columns]\n"
     ]
    }
   ],
   "source": [
    "#Read in data and the rename the attributes\n",
    "df_parameterData = pd.read_excel(r'C:\\Users\\ietuk\\Documents\\Capston_C5T4\\C5T4\\ENB2012_data.xlsx')\n",
    "\n",
    "# Rename the attributes from X1-Y2 to building parameters\n",
    "df_parameterData.rename(columns = {'X1':' relativeCompactness', 'X2':'surfaceArea', 'X3': 'wallArea', 'X4': 'roofArea', 'X5': 'overallHeight',\n",
    "                  'X6': 'Orientation', 'X7': 'glazingArea', 'X8':'glazingAreaDist', 'y1':'heatingLoad', 'y2':'coolingLoad'},\n",
    "                   inplace = True)\n",
    "print(df_parameterData)"
   ]
  },
  {
   "cell_type": "raw",
   "metadata": {},
   "source": [
    "A quick look at the data shows that there are 768 instances and 10 features matching the excel source. Now, lets also get a breakdown of the data types or dtypes in our data set."
   ]
  },
  {
   "cell_type": "code",
   "execution_count": 323,
   "metadata": {},
   "outputs": [
    {
     "name": "stdout",
     "output_type": "stream",
     "text": [
      "<class 'pandas.core.frame.DataFrame'>\n",
      "RangeIndex: 768 entries, 0 to 767\n",
      "Data columns (total 10 columns):\n",
      " relativeCompactness    768 non-null float64\n",
      "surfaceArea             768 non-null float64\n",
      "wallArea                768 non-null float64\n",
      "roofArea                768 non-null float64\n",
      "overallHeight           768 non-null float64\n",
      "Orientation             768 non-null int64\n",
      "glazingArea             768 non-null float64\n",
      "glazingAreaDist         768 non-null int64\n",
      "Y1                      768 non-null float64\n",
      "Y2                      768 non-null float64\n",
      "dtypes: float64(8), int64(2)\n",
      "memory usage: 60.1 KB\n",
      "None \n",
      "\n",
      "unique dtypes: {dtype('int64'), dtype('float64')}\n"
     ]
    }
   ],
   "source": [
    "print('{} \\n\\nunique dtypes: {}'.format(df_parameterData.info(),\n",
    "                                        set([df_parameterData[x].dtype for x in df_parameterData])))"
   ]
  },
  {
   "cell_type": "code",
   "execution_count": 324,
   "metadata": {},
   "outputs": [
    {
     "name": "stdout",
     "output_type": "stream",
     "text": [
      "<class 'pandas.core.frame.DataFrame'>\n",
      "RangeIndex: 768 entries, 0 to 767\n",
      "Data columns (total 10 columns):\n",
      " relativeCompactness    768 non-null float64\n",
      "surfaceArea             768 non-null float64\n",
      "wallArea                768 non-null float64\n",
      "roofArea                768 non-null float64\n",
      "overallHeight           768 non-null float64\n",
      "Orientation             768 non-null int64\n",
      "glazingArea             768 non-null float64\n",
      "glazingAreaDist         768 non-null int64\n",
      "Y1                      768 non-null float64\n",
      "Y2                      768 non-null float64\n",
      "dtypes: float64(8), int64(2)\n",
      "memory usage: 60.1 KB\n",
      "        relativeCompactness  surfaceArea    wallArea    roofArea  \\\n",
      "count            768.000000   768.000000  768.000000  768.000000   \n",
      "mean               0.764167   671.708333  318.500000  176.604167   \n",
      "std                0.105777    88.086116   43.626481   45.165950   \n",
      "min                0.620000   514.500000  245.000000  110.250000   \n",
      "25%                0.682500   606.375000  294.000000  140.875000   \n",
      "50%                0.750000   673.750000  318.500000  183.750000   \n",
      "75%                0.830000   741.125000  343.000000  220.500000   \n",
      "max                0.980000   808.500000  416.500000  220.500000   \n",
      "\n",
      "       overallHeight  Orientation  glazingArea  glazingAreaDist          Y1  \\\n",
      "count      768.00000   768.000000   768.000000        768.00000  768.000000   \n",
      "mean         5.25000     3.500000     0.234375          2.81250   22.307195   \n",
      "std          1.75114     1.118763     0.133221          1.55096   10.090204   \n",
      "min          3.50000     2.000000     0.000000          0.00000    6.010000   \n",
      "25%          3.50000     2.750000     0.100000          1.75000   12.992500   \n",
      "50%          5.25000     3.500000     0.250000          3.00000   18.950000   \n",
      "75%          7.00000     4.250000     0.400000          4.00000   31.667500   \n",
      "max          7.00000     5.000000     0.400000          5.00000   43.100000   \n",
      "\n",
      "               Y2  \n",
      "count  768.000000  \n",
      "mean    24.587760  \n",
      "std      9.513306  \n",
      "min     10.900000  \n",
      "25%     15.620000  \n",
      "50%     22.080000  \n",
      "75%     33.132500  \n",
      "max     48.030000  \n"
     ]
    }
   ],
   "source": [
    "# statistical information about the data\n",
    "df_parameterData.info()\n",
    "print(df_parameterData.describe())"
   ]
  },
  {
   "cell_type": "code",
   "execution_count": 325,
   "metadata": {},
   "outputs": [
    {
     "data": {
      "image/png": "[encoded data removed]",
      "text/plain": [
       "<Figure size 576x396 with 1 Axes>"
      ]
     },
     "metadata": {
      "needs_background": "light"
     },
     "output_type": "display_data"
    }
   ],
   "source": [
    "# plot histogram of heatingLoad\n",
    "_ = sns.distplot(df_parameterData.Y1, color='b',bins=20)\n",
    "plt.xlabel('Heating Load', fontsize=16, fontweight='bold')\n",
    "plt.title('Distribution of Heating Load', fontsize=20)\n",
    "plt.margins(0.02)\n",
    "plt.show();"
   ]
  },
  {
   "cell_type": "raw",
   "metadata": {},
   "source": [
    "Plotting the distribution of one of the responses, a dependent variable (Heating Load) shows that it is approximately normally distributed."
   ]
  },
  {
   "cell_type": "code",
   "execution_count": 326,
   "metadata": {},
   "outputs": [
    {
     "data": {
      "image/png": "[encoded data removed]",
      "text/plain": [
       "<Figure size 576x396 with 1 Axes>"
      ]
     },
     "metadata": {
      "needs_background": "light"
     },
     "output_type": "display_data"
    }
   ],
   "source": [
    "# plot histogram of CoolLoad\n",
    "_ = sns.distplot(df_parameterData.Y2, color='b',bins=20)\n",
    "plt.xlabel('Cooling Load', fontsize=16, fontweight='bold')\n",
    "plt.title('Distribution of Cooling Load', fontsize=20)\n",
    "plt.margins(0.02)\n",
    "plt.show();"
   ]
  },
  {
   "cell_type": "raw",
   "metadata": {},
   "source": [
    "Plotting the distribution of another responses, a dependent variable (Cooling Load) shows that it is approximately normally distributed."
   ]
  },
  {
   "cell_type": "markdown",
   "metadata": {},
   "source": [
    "## Data Cleaning and Pre-processing"
   ]
  },
  {
   "cell_type": "raw",
   "metadata": {},
   "source": [
    "To deal with any missing data, we can check the extent of missing data and plot the counts of missing data by column and row in both in the data set. We can see from the plot that there's no missing data."
   ]
  },
  {
   "cell_type": "code",
   "execution_count": 327,
   "metadata": {},
   "outputs": [
    {
     "data": {
      "text/html": [
       "<div>\n",
       "<style scoped>\n",
       "    .dataframe tbody tr th:only-of-type {\n",
       "        vertical-align: middle;\n",
       "    }\n",
       "\n",
       "    .dataframe tbody tr th {\n",
       "        vertical-align: top;\n",
       "    }\n",
       "\n",
       "    .dataframe thead th {\n",
       "        text-align: right;\n",
       "    }\n",
       "</style>\n",
       "<table border=\"1\" class=\"dataframe\">\n",
       "  <thead>\n",
       "    <tr style=\"text-align: right;\">\n",
       "      <th></th>\n",
       "      <th>relativeCompactness</th>\n",
       "      <th>surfaceArea</th>\n",
       "      <th>wallArea</th>\n",
       "      <th>roofArea</th>\n",
       "      <th>overallHeight</th>\n",
       "      <th>Orientation</th>\n",
       "      <th>glazingArea</th>\n",
       "      <th>glazingAreaDist</th>\n",
       "      <th>Y1</th>\n",
       "      <th>Y2</th>\n",
       "    </tr>\n",
       "  </thead>\n",
       "  <tbody>\n",
       "    <tr>\n",
       "      <th>0</th>\n",
       "      <td>False</td>\n",
       "      <td>False</td>\n",
       "      <td>False</td>\n",
       "      <td>False</td>\n",
       "      <td>False</td>\n",
       "      <td>False</td>\n",
       "      <td>False</td>\n",
       "      <td>False</td>\n",
       "      <td>False</td>\n",
       "      <td>False</td>\n",
       "    </tr>\n",
       "    <tr>\n",
       "      <th>1</th>\n",
       "      <td>False</td>\n",
       "      <td>False</td>\n",
       "      <td>False</td>\n",
       "      <td>False</td>\n",
       "      <td>False</td>\n",
       "      <td>False</td>\n",
       "      <td>False</td>\n",
       "      <td>False</td>\n",
       "      <td>False</td>\n",
       "      <td>False</td>\n",
       "    </tr>\n",
       "    <tr>\n",
       "      <th>2</th>\n",
       "      <td>False</td>\n",
       "      <td>False</td>\n",
       "      <td>False</td>\n",
       "      <td>False</td>\n",
       "      <td>False</td>\n",
       "      <td>False</td>\n",
       "      <td>False</td>\n",
       "      <td>False</td>\n",
       "      <td>False</td>\n",
       "      <td>False</td>\n",
       "    </tr>\n",
       "    <tr>\n",
       "      <th>3</th>\n",
       "      <td>False</td>\n",
       "      <td>False</td>\n",
       "      <td>False</td>\n",
       "      <td>False</td>\n",
       "      <td>False</td>\n",
       "      <td>False</td>\n",
       "      <td>False</td>\n",
       "      <td>False</td>\n",
       "      <td>False</td>\n",
       "      <td>False</td>\n",
       "    </tr>\n",
       "    <tr>\n",
       "      <th>4</th>\n",
       "      <td>False</td>\n",
       "      <td>False</td>\n",
       "      <td>False</td>\n",
       "      <td>False</td>\n",
       "      <td>False</td>\n",
       "      <td>False</td>\n",
       "      <td>False</td>\n",
       "      <td>False</td>\n",
       "      <td>False</td>\n",
       "      <td>False</td>\n",
       "    </tr>\n",
       "    <tr>\n",
       "      <th>5</th>\n",
       "      <td>False</td>\n",
       "      <td>False</td>\n",
       "      <td>False</td>\n",
       "      <td>False</td>\n",
       "      <td>False</td>\n",
       "      <td>False</td>\n",
       "      <td>False</td>\n",
       "      <td>False</td>\n",
       "      <td>False</td>\n",
       "      <td>False</td>\n",
       "    </tr>\n",
       "    <tr>\n",
       "      <th>6</th>\n",
       "      <td>False</td>\n",
       "      <td>False</td>\n",
       "      <td>False</td>\n",
       "      <td>False</td>\n",
       "      <td>False</td>\n",
       "      <td>False</td>\n",
       "      <td>False</td>\n",
       "      <td>False</td>\n",
       "      <td>False</td>\n",
       "      <td>False</td>\n",
       "    </tr>\n",
       "    <tr>\n",
       "      <th>7</th>\n",
       "      <td>False</td>\n",
       "      <td>False</td>\n",
       "      <td>False</td>\n",
       "      <td>False</td>\n",
       "      <td>False</td>\n",
       "      <td>False</td>\n",
       "      <td>False</td>\n",
       "      <td>False</td>\n",
       "      <td>False</td>\n",
       "      <td>False</td>\n",
       "    </tr>\n",
       "    <tr>\n",
       "      <th>8</th>\n",
       "      <td>False</td>\n",
       "      <td>False</td>\n",
       "      <td>False</td>\n",
       "      <td>False</td>\n",
       "      <td>False</td>\n",
       "      <td>False</td>\n",
       "      <td>False</td>\n",
       "      <td>False</td>\n",
       "      <td>False</td>\n",
       "      <td>False</td>\n",
       "    </tr>\n",
       "    <tr>\n",
       "      <th>9</th>\n",
       "      <td>False</td>\n",
       "      <td>False</td>\n",
       "      <td>False</td>\n",
       "      <td>False</td>\n",
       "      <td>False</td>\n",
       "      <td>False</td>\n",
       "      <td>False</td>\n",
       "      <td>False</td>\n",
       "      <td>False</td>\n",
       "      <td>False</td>\n",
       "    </tr>\n",
       "    <tr>\n",
       "      <th>10</th>\n",
       "      <td>False</td>\n",
       "      <td>False</td>\n",
       "      <td>False</td>\n",
       "      <td>False</td>\n",
       "      <td>False</td>\n",
       "      <td>False</td>\n",
       "      <td>False</td>\n",
       "      <td>False</td>\n",
       "      <td>False</td>\n",
       "      <td>False</td>\n",
       "    </tr>\n",
       "    <tr>\n",
       "      <th>11</th>\n",
       "      <td>False</td>\n",
       "      <td>False</td>\n",
       "      <td>False</td>\n",
       "      <td>False</td>\n",
       "      <td>False</td>\n",
       "      <td>False</td>\n",
       "      <td>False</td>\n",
       "      <td>False</td>\n",
       "      <td>False</td>\n",
       "      <td>False</td>\n",
       "    </tr>\n",
       "    <tr>\n",
       "      <th>12</th>\n",
       "      <td>False</td>\n",
       "      <td>False</td>\n",
       "      <td>False</td>\n",
       "      <td>False</td>\n",
       "      <td>False</td>\n",
       "      <td>False</td>\n",
       "      <td>False</td>\n",
       "      <td>False</td>\n",
       "      <td>False</td>\n",
       "      <td>False</td>\n",
       "    </tr>\n",
       "    <tr>\n",
       "      <th>13</th>\n",
       "      <td>False</td>\n",
       "      <td>False</td>\n",
       "      <td>False</td>\n",
       "      <td>False</td>\n",
       "      <td>False</td>\n",
       "      <td>False</td>\n",
       "      <td>False</td>\n",
       "      <td>False</td>\n",
       "      <td>False</td>\n",
       "      <td>False</td>\n",
       "    </tr>\n",
       "    <tr>\n",
       "      <th>14</th>\n",
       "      <td>False</td>\n",
       "      <td>False</td>\n",
       "      <td>False</td>\n",
       "      <td>False</td>\n",
       "      <td>False</td>\n",
       "      <td>False</td>\n",
       "      <td>False</td>\n",
       "      <td>False</td>\n",
       "      <td>False</td>\n",
       "      <td>False</td>\n",
       "    </tr>\n",
       "    <tr>\n",
       "      <th>15</th>\n",
       "      <td>False</td>\n",
       "      <td>False</td>\n",
       "      <td>False</td>\n",
       "      <td>False</td>\n",
       "      <td>False</td>\n",
       "      <td>False</td>\n",
       "      <td>False</td>\n",
       "      <td>False</td>\n",
       "      <td>False</td>\n",
       "      <td>False</td>\n",
       "    </tr>\n",
       "    <tr>\n",
       "      <th>16</th>\n",
       "      <td>False</td>\n",
       "      <td>False</td>\n",
       "      <td>False</td>\n",
       "      <td>False</td>\n",
       "      <td>False</td>\n",
       "      <td>False</td>\n",
       "      <td>False</td>\n",
       "      <td>False</td>\n",
       "      <td>False</td>\n",
       "      <td>False</td>\n",
       "    </tr>\n",
       "    <tr>\n",
       "      <th>17</th>\n",
       "      <td>False</td>\n",
       "      <td>False</td>\n",
       "      <td>False</td>\n",
       "      <td>False</td>\n",
       "      <td>False</td>\n",
       "      <td>False</td>\n",
       "      <td>False</td>\n",
       "      <td>False</td>\n",
       "      <td>False</td>\n",
       "      <td>False</td>\n",
       "    </tr>\n",
       "    <tr>\n",
       "      <th>18</th>\n",
       "      <td>False</td>\n",
       "      <td>False</td>\n",
       "      <td>False</td>\n",
       "      <td>False</td>\n",
       "      <td>False</td>\n",
       "      <td>False</td>\n",
       "      <td>False</td>\n",
       "      <td>False</td>\n",
       "      <td>False</td>\n",
       "      <td>False</td>\n",
       "    </tr>\n",
       "    <tr>\n",
       "      <th>19</th>\n",
       "      <td>False</td>\n",
       "      <td>False</td>\n",
       "      <td>False</td>\n",
       "      <td>False</td>\n",
       "      <td>False</td>\n",
       "      <td>False</td>\n",
       "      <td>False</td>\n",
       "      <td>False</td>\n",
       "      <td>False</td>\n",
       "      <td>False</td>\n",
       "    </tr>\n",
       "    <tr>\n",
       "      <th>20</th>\n",
       "      <td>False</td>\n",
       "      <td>False</td>\n",
       "      <td>False</td>\n",
       "      <td>False</td>\n",
       "      <td>False</td>\n",
       "      <td>False</td>\n",
       "      <td>False</td>\n",
       "      <td>False</td>\n",
       "      <td>False</td>\n",
       "      <td>False</td>\n",
       "    </tr>\n",
       "    <tr>\n",
       "      <th>21</th>\n",
       "      <td>False</td>\n",
       "      <td>False</td>\n",
       "      <td>False</td>\n",
       "      <td>False</td>\n",
       "      <td>False</td>\n",
       "      <td>False</td>\n",
       "      <td>False</td>\n",
       "      <td>False</td>\n",
       "      <td>False</td>\n",
       "      <td>False</td>\n",
       "    </tr>\n",
       "    <tr>\n",
       "      <th>22</th>\n",
       "      <td>False</td>\n",
       "      <td>False</td>\n",
       "      <td>False</td>\n",
       "      <td>False</td>\n",
       "      <td>False</td>\n",
       "      <td>False</td>\n",
       "      <td>False</td>\n",
       "      <td>False</td>\n",
       "      <td>False</td>\n",
       "      <td>False</td>\n",
       "    </tr>\n",
       "    <tr>\n",
       "      <th>23</th>\n",
       "      <td>False</td>\n",
       "      <td>False</td>\n",
       "      <td>False</td>\n",
       "      <td>False</td>\n",
       "      <td>False</td>\n",
       "      <td>False</td>\n",
       "      <td>False</td>\n",
       "      <td>False</td>\n",
       "      <td>False</td>\n",
       "      <td>False</td>\n",
       "    </tr>\n",
       "    <tr>\n",
       "      <th>24</th>\n",
       "      <td>False</td>\n",
       "      <td>False</td>\n",
       "      <td>False</td>\n",
       "      <td>False</td>\n",
       "      <td>False</td>\n",
       "      <td>False</td>\n",
       "      <td>False</td>\n",
       "      <td>False</td>\n",
       "      <td>False</td>\n",
       "      <td>False</td>\n",
       "    </tr>\n",
       "    <tr>\n",
       "      <th>25</th>\n",
       "      <td>False</td>\n",
       "      <td>False</td>\n",
       "      <td>False</td>\n",
       "      <td>False</td>\n",
       "      <td>False</td>\n",
       "      <td>False</td>\n",
       "      <td>False</td>\n",
       "      <td>False</td>\n",
       "      <td>False</td>\n",
       "      <td>False</td>\n",
       "    </tr>\n",
       "    <tr>\n",
       "      <th>26</th>\n",
       "      <td>False</td>\n",
       "      <td>False</td>\n",
       "      <td>False</td>\n",
       "      <td>False</td>\n",
       "      <td>False</td>\n",
       "      <td>False</td>\n",
       "      <td>False</td>\n",
       "      <td>False</td>\n",
       "      <td>False</td>\n",
       "      <td>False</td>\n",
       "    </tr>\n",
       "    <tr>\n",
       "      <th>27</th>\n",
       "      <td>False</td>\n",
       "      <td>False</td>\n",
       "      <td>False</td>\n",
       "      <td>False</td>\n",
       "      <td>False</td>\n",
       "      <td>False</td>\n",
       "      <td>False</td>\n",
       "      <td>False</td>\n",
       "      <td>False</td>\n",
       "      <td>False</td>\n",
       "    </tr>\n",
       "    <tr>\n",
       "      <th>28</th>\n",
       "      <td>False</td>\n",
       "      <td>False</td>\n",
       "      <td>False</td>\n",
       "      <td>False</td>\n",
       "      <td>False</td>\n",
       "      <td>False</td>\n",
       "      <td>False</td>\n",
       "      <td>False</td>\n",
       "      <td>False</td>\n",
       "      <td>False</td>\n",
       "    </tr>\n",
       "    <tr>\n",
       "      <th>29</th>\n",
       "      <td>False</td>\n",
       "      <td>False</td>\n",
       "      <td>False</td>\n",
       "      <td>False</td>\n",
       "      <td>False</td>\n",
       "      <td>False</td>\n",
       "      <td>False</td>\n",
       "      <td>False</td>\n",
       "      <td>False</td>\n",
       "      <td>False</td>\n",
       "    </tr>\n",
       "    <tr>\n",
       "      <th>...</th>\n",
       "      <td>...</td>\n",
       "      <td>...</td>\n",
       "      <td>...</td>\n",
       "      <td>...</td>\n",
       "      <td>...</td>\n",
       "      <td>...</td>\n",
       "      <td>...</td>\n",
       "      <td>...</td>\n",
       "      <td>...</td>\n",
       "      <td>...</td>\n",
       "    </tr>\n",
       "    <tr>\n",
       "      <th>738</th>\n",
       "      <td>False</td>\n",
       "      <td>False</td>\n",
       "      <td>False</td>\n",
       "      <td>False</td>\n",
       "      <td>False</td>\n",
       "      <td>False</td>\n",
       "      <td>False</td>\n",
       "      <td>False</td>\n",
       "      <td>False</td>\n",
       "      <td>False</td>\n",
       "    </tr>\n",
       "    <tr>\n",
       "      <th>739</th>\n",
       "      <td>False</td>\n",
       "      <td>False</td>\n",
       "      <td>False</td>\n",
       "      <td>False</td>\n",
       "      <td>False</td>\n",
       "      <td>False</td>\n",
       "      <td>False</td>\n",
       "      <td>False</td>\n",
       "      <td>False</td>\n",
       "      <td>False</td>\n",
       "    </tr>\n",
       "    <tr>\n",
       "      <th>740</th>\n",
       "      <td>False</td>\n",
       "      <td>False</td>\n",
       "      <td>False</td>\n",
       "      <td>False</td>\n",
       "      <td>False</td>\n",
       "      <td>False</td>\n",
       "      <td>False</td>\n",
       "      <td>False</td>\n",
       "      <td>False</td>\n",
       "      <td>False</td>\n",
       "    </tr>\n",
       "    <tr>\n",
       "      <th>741</th>\n",
       "      <td>False</td>\n",
       "      <td>False</td>\n",
       "      <td>False</td>\n",
       "      <td>False</td>\n",
       "      <td>False</td>\n",
       "      <td>False</td>\n",
       "      <td>False</td>\n",
       "      <td>False</td>\n",
       "      <td>False</td>\n",
       "      <td>False</td>\n",
       "    </tr>\n",
       "    <tr>\n",
       "      <th>742</th>\n",
       "      <td>False</td>\n",
       "      <td>False</td>\n",
       "      <td>False</td>\n",
       "      <td>False</td>\n",
       "      <td>False</td>\n",
       "      <td>False</td>\n",
       "      <td>False</td>\n",
       "      <td>False</td>\n",
       "      <td>False</td>\n",
       "      <td>False</td>\n",
       "    </tr>\n",
       "    <tr>\n",
       "      <th>743</th>\n",
       "      <td>False</td>\n",
       "      <td>False</td>\n",
       "      <td>False</td>\n",
       "      <td>False</td>\n",
       "      <td>False</td>\n",
       "      <td>False</td>\n",
       "      <td>False</td>\n",
       "      <td>False</td>\n",
       "      <td>False</td>\n",
       "      <td>False</td>\n",
       "    </tr>\n",
       "    <tr>\n",
       "      <th>744</th>\n",
       "      <td>False</td>\n",
       "      <td>False</td>\n",
       "      <td>False</td>\n",
       "      <td>False</td>\n",
       "      <td>False</td>\n",
       "      <td>False</td>\n",
       "      <td>False</td>\n",
       "      <td>False</td>\n",
       "      <td>False</td>\n",
       "      <td>False</td>\n",
       "    </tr>\n",
       "    <tr>\n",
       "      <th>745</th>\n",
       "      <td>False</td>\n",
       "      <td>False</td>\n",
       "      <td>False</td>\n",
       "      <td>False</td>\n",
       "      <td>False</td>\n",
       "      <td>False</td>\n",
       "      <td>False</td>\n",
       "      <td>False</td>\n",
       "      <td>False</td>\n",
       "      <td>False</td>\n",
       "    </tr>\n",
       "    <tr>\n",
       "      <th>746</th>\n",
       "      <td>False</td>\n",
       "      <td>False</td>\n",
       "      <td>False</td>\n",
       "      <td>False</td>\n",
       "      <td>False</td>\n",
       "      <td>False</td>\n",
       "      <td>False</td>\n",
       "      <td>False</td>\n",
       "      <td>False</td>\n",
       "      <td>False</td>\n",
       "    </tr>\n",
       "    <tr>\n",
       "      <th>747</th>\n",
       "      <td>False</td>\n",
       "      <td>False</td>\n",
       "      <td>False</td>\n",
       "      <td>False</td>\n",
       "      <td>False</td>\n",
       "      <td>False</td>\n",
       "      <td>False</td>\n",
       "      <td>False</td>\n",
       "      <td>False</td>\n",
       "      <td>False</td>\n",
       "    </tr>\n",
       "    <tr>\n",
       "      <th>748</th>\n",
       "      <td>False</td>\n",
       "      <td>False</td>\n",
       "      <td>False</td>\n",
       "      <td>False</td>\n",
       "      <td>False</td>\n",
       "      <td>False</td>\n",
       "      <td>False</td>\n",
       "      <td>False</td>\n",
       "      <td>False</td>\n",
       "      <td>False</td>\n",
       "    </tr>\n",
       "    <tr>\n",
       "      <th>749</th>\n",
       "      <td>False</td>\n",
       "      <td>False</td>\n",
       "      <td>False</td>\n",
       "      <td>False</td>\n",
       "      <td>False</td>\n",
       "      <td>False</td>\n",
       "      <td>False</td>\n",
       "      <td>False</td>\n",
       "      <td>False</td>\n",
       "      <td>False</td>\n",
       "    </tr>\n",
       "    <tr>\n",
       "      <th>750</th>\n",
       "      <td>False</td>\n",
       "      <td>False</td>\n",
       "      <td>False</td>\n",
       "      <td>False</td>\n",
       "      <td>False</td>\n",
       "      <td>False</td>\n",
       "      <td>False</td>\n",
       "      <td>False</td>\n",
       "      <td>False</td>\n",
       "      <td>False</td>\n",
       "    </tr>\n",
       "    <tr>\n",
       "      <th>751</th>\n",
       "      <td>False</td>\n",
       "      <td>False</td>\n",
       "      <td>False</td>\n",
       "      <td>False</td>\n",
       "      <td>False</td>\n",
       "      <td>False</td>\n",
       "      <td>False</td>\n",
       "      <td>False</td>\n",
       "      <td>False</td>\n",
       "      <td>False</td>\n",
       "    </tr>\n",
       "    <tr>\n",
       "      <th>752</th>\n",
       "      <td>False</td>\n",
       "      <td>False</td>\n",
       "      <td>False</td>\n",
       "      <td>False</td>\n",
       "      <td>False</td>\n",
       "      <td>False</td>\n",
       "      <td>False</td>\n",
       "      <td>False</td>\n",
       "      <td>False</td>\n",
       "      <td>False</td>\n",
       "    </tr>\n",
       "    <tr>\n",
       "      <th>753</th>\n",
       "      <td>False</td>\n",
       "      <td>False</td>\n",
       "      <td>False</td>\n",
       "      <td>False</td>\n",
       "      <td>False</td>\n",
       "      <td>False</td>\n",
       "      <td>False</td>\n",
       "      <td>False</td>\n",
       "      <td>False</td>\n",
       "      <td>False</td>\n",
       "    </tr>\n",
       "    <tr>\n",
       "      <th>754</th>\n",
       "      <td>False</td>\n",
       "      <td>False</td>\n",
       "      <td>False</td>\n",
       "      <td>False</td>\n",
       "      <td>False</td>\n",
       "      <td>False</td>\n",
       "      <td>False</td>\n",
       "      <td>False</td>\n",
       "      <td>False</td>\n",
       "      <td>False</td>\n",
       "    </tr>\n",
       "    <tr>\n",
       "      <th>755</th>\n",
       "      <td>False</td>\n",
       "      <td>False</td>\n",
       "      <td>False</td>\n",
       "      <td>False</td>\n",
       "      <td>False</td>\n",
       "      <td>False</td>\n",
       "      <td>False</td>\n",
       "      <td>False</td>\n",
       "      <td>False</td>\n",
       "      <td>False</td>\n",
       "    </tr>\n",
       "    <tr>\n",
       "      <th>756</th>\n",
       "      <td>False</td>\n",
       "      <td>False</td>\n",
       "      <td>False</td>\n",
       "      <td>False</td>\n",
       "      <td>False</td>\n",
       "      <td>False</td>\n",
       "      <td>False</td>\n",
       "      <td>False</td>\n",
       "      <td>False</td>\n",
       "      <td>False</td>\n",
       "    </tr>\n",
       "    <tr>\n",
       "      <th>757</th>\n",
       "      <td>False</td>\n",
       "      <td>False</td>\n",
       "      <td>False</td>\n",
       "      <td>False</td>\n",
       "      <td>False</td>\n",
       "      <td>False</td>\n",
       "      <td>False</td>\n",
       "      <td>False</td>\n",
       "      <td>False</td>\n",
       "      <td>False</td>\n",
       "    </tr>\n",
       "    <tr>\n",
       "      <th>758</th>\n",
       "      <td>False</td>\n",
       "      <td>False</td>\n",
       "      <td>False</td>\n",
       "      <td>False</td>\n",
       "      <td>False</td>\n",
       "      <td>False</td>\n",
       "      <td>False</td>\n",
       "      <td>False</td>\n",
       "      <td>False</td>\n",
       "      <td>False</td>\n",
       "    </tr>\n",
       "    <tr>\n",
       "      <th>759</th>\n",
       "      <td>False</td>\n",
       "      <td>False</td>\n",
       "      <td>False</td>\n",
       "      <td>False</td>\n",
       "      <td>False</td>\n",
       "      <td>False</td>\n",
       "      <td>False</td>\n",
       "      <td>False</td>\n",
       "      <td>False</td>\n",
       "      <td>False</td>\n",
       "    </tr>\n",
       "    <tr>\n",
       "      <th>760</th>\n",
       "      <td>False</td>\n",
       "      <td>False</td>\n",
       "      <td>False</td>\n",
       "      <td>False</td>\n",
       "      <td>False</td>\n",
       "      <td>False</td>\n",
       "      <td>False</td>\n",
       "      <td>False</td>\n",
       "      <td>False</td>\n",
       "      <td>False</td>\n",
       "    </tr>\n",
       "    <tr>\n",
       "      <th>761</th>\n",
       "      <td>False</td>\n",
       "      <td>False</td>\n",
       "      <td>False</td>\n",
       "      <td>False</td>\n",
       "      <td>False</td>\n",
       "      <td>False</td>\n",
       "      <td>False</td>\n",
       "      <td>False</td>\n",
       "      <td>False</td>\n",
       "      <td>False</td>\n",
       "    </tr>\n",
       "    <tr>\n",
       "      <th>762</th>\n",
       "      <td>False</td>\n",
       "      <td>False</td>\n",
       "      <td>False</td>\n",
       "      <td>False</td>\n",
       "      <td>False</td>\n",
       "      <td>False</td>\n",
       "      <td>False</td>\n",
       "      <td>False</td>\n",
       "      <td>False</td>\n",
       "      <td>False</td>\n",
       "    </tr>\n",
       "    <tr>\n",
       "      <th>763</th>\n",
       "      <td>False</td>\n",
       "      <td>False</td>\n",
       "      <td>False</td>\n",
       "      <td>False</td>\n",
       "      <td>False</td>\n",
       "      <td>False</td>\n",
       "      <td>False</td>\n",
       "      <td>False</td>\n",
       "      <td>False</td>\n",
       "      <td>False</td>\n",
       "    </tr>\n",
       "    <tr>\n",
       "      <th>764</th>\n",
       "      <td>False</td>\n",
       "      <td>False</td>\n",
       "      <td>False</td>\n",
       "      <td>False</td>\n",
       "      <td>False</td>\n",
       "      <td>False</td>\n",
       "      <td>False</td>\n",
       "      <td>False</td>\n",
       "      <td>False</td>\n",
       "      <td>False</td>\n",
       "    </tr>\n",
       "    <tr>\n",
       "      <th>765</th>\n",
       "      <td>False</td>\n",
       "      <td>False</td>\n",
       "      <td>False</td>\n",
       "      <td>False</td>\n",
       "      <td>False</td>\n",
       "      <td>False</td>\n",
       "      <td>False</td>\n",
       "      <td>False</td>\n",
       "      <td>False</td>\n",
       "      <td>False</td>\n",
       "    </tr>\n",
       "    <tr>\n",
       "      <th>766</th>\n",
       "      <td>False</td>\n",
       "      <td>False</td>\n",
       "      <td>False</td>\n",
       "      <td>False</td>\n",
       "      <td>False</td>\n",
       "      <td>False</td>\n",
       "      <td>False</td>\n",
       "      <td>False</td>\n",
       "      <td>False</td>\n",
       "      <td>False</td>\n",
       "    </tr>\n",
       "    <tr>\n",
       "      <th>767</th>\n",
       "      <td>False</td>\n",
       "      <td>False</td>\n",
       "      <td>False</td>\n",
       "      <td>False</td>\n",
       "      <td>False</td>\n",
       "      <td>False</td>\n",
       "      <td>False</td>\n",
       "      <td>False</td>\n",
       "      <td>False</td>\n",
       "      <td>False</td>\n",
       "    </tr>\n",
       "  </tbody>\n",
       "</table>\n",
       "<p>768 rows × 10 columns</p>\n",
       "</div>"
      ],
      "text/plain": [
       "      relativeCompactness  surfaceArea  wallArea  roofArea  overallHeight  \\\n",
       "0                   False        False     False     False          False   \n",
       "1                   False        False     False     False          False   \n",
       "2                   False        False     False     False          False   \n",
       "3                   False        False     False     False          False   \n",
       "4                   False        False     False     False          False   \n",
       "5                   False        False     False     False          False   \n",
       "6                   False        False     False     False          False   \n",
       "7                   False        False     False     False          False   \n",
       "8                   False        False     False     False          False   \n",
       "9                   False        False     False     False          False   \n",
       "10                  False        False     False     False          False   \n",
       "11                  False        False     False     False          False   \n",
       "12                  False        False     False     False          False   \n",
       "13                  False        False     False     False          False   \n",
       "14                  False        False     False     False          False   \n",
       "15                  False        False     False     False          False   \n",
       "16                  False        False     False     False          False   \n",
       "17                  False        False     False     False          False   \n",
       "18                  False        False     False     False          False   \n",
       "19                  False        False     False     False          False   \n",
       "20                  False        False     False     False          False   \n",
       "21                  False        False     False     False          False   \n",
       "22                  False        False     False     False          False   \n",
       "23                  False        False     False     False          False   \n",
       "24                  False        False     False     False          False   \n",
       "25                  False        False     False     False          False   \n",
       "26                  False        False     False     False          False   \n",
       "27                  False        False     False     False          False   \n",
       "28                  False        False     False     False          False   \n",
       "29                  False        False     False     False          False   \n",
       "..                    ...          ...       ...       ...            ...   \n",
       "738                 False        False     False     False          False   \n",
       "739                 False        False     False     False          False   \n",
       "740                 False        False     False     False          False   \n",
       "741                 False        False     False     False          False   \n",
       "742                 False        False     False     False          False   \n",
       "743                 False        False     False     False          False   \n",
       "744                 False        False     False     False          False   \n",
       "745                 False        False     False     False          False   \n",
       "746                 False        False     False     False          False   \n",
       "747                 False        False     False     False          False   \n",
       "748                 False        False     False     False          False   \n",
       "749                 False        False     False     False          False   \n",
       "750                 False        False     False     False          False   \n",
       "751                 False        False     False     False          False   \n",
       "752                 False        False     False     False          False   \n",
       "753                 False        False     False     False          False   \n",
       "754                 False        False     False     False          False   \n",
       "755                 False        False     False     False          False   \n",
       "756                 False        False     False     False          False   \n",
       "757                 False        False     False     False          False   \n",
       "758                 False        False     False     False          False   \n",
       "759                 False        False     False     False          False   \n",
       "760                 False        False     False     False          False   \n",
       "761                 False        False     False     False          False   \n",
       "762                 False        False     False     False          False   \n",
       "763                 False        False     False     False          False   \n",
       "764                 False        False     False     False          False   \n",
       "765                 False        False     False     False          False   \n",
       "766                 False        False     False     False          False   \n",
       "767                 False        False     False     False          False   \n",
       "\n",
       "     Orientation  glazingArea  glazingAreaDist     Y1     Y2  \n",
       "0          False        False            False  False  False  \n",
       "1          False        False            False  False  False  \n",
       "2          False        False            False  False  False  \n",
       "3          False        False            False  False  False  \n",
       "4          False        False            False  False  False  \n",
       "5          False        False            False  False  False  \n",
       "6          False        False            False  False  False  \n",
       "7          False        False            False  False  False  \n",
       "8          False        False            False  False  False  \n",
       "9          False        False            False  False  False  \n",
       "10         False        False            False  False  False  \n",
       "11         False        False            False  False  False  \n",
       "12         False        False            False  False  False  \n",
       "13         False        False            False  False  False  \n",
       "14         False        False            False  False  False  \n",
       "15         False        False            False  False  False  \n",
       "16         False        False            False  False  False  \n",
       "17         False        False            False  False  False  \n",
       "18         False        False            False  False  False  \n",
       "19         False        False            False  False  False  \n",
       "20         False        False            False  False  False  \n",
       "21         False        False            False  False  False  \n",
       "22         False        False            False  False  False  \n",
       "23         False        False            False  False  False  \n",
       "24         False        False            False  False  False  \n",
       "25         False        False            False  False  False  \n",
       "26         False        False            False  False  False  \n",
       "27         False        False            False  False  False  \n",
       "28         False        False            False  False  False  \n",
       "29         False        False            False  False  False  \n",
       "..           ...          ...              ...    ...    ...  \n",
       "738        False        False            False  False  False  \n",
       "739        False        False            False  False  False  \n",
       "740        False        False            False  False  False  \n",
       "741        False        False            False  False  False  \n",
       "742        False        False            False  False  False  \n",
       "743        False        False            False  False  False  \n",
       "744        False        False            False  False  False  \n",
       "745        False        False            False  False  False  \n",
       "746        False        False            False  False  False  \n",
       "747        False        False            False  False  False  \n",
       "748        False        False            False  False  False  \n",
       "749        False        False            False  False  False  \n",
       "750        False        False            False  False  False  \n",
       "751        False        False            False  False  False  \n",
       "752        False        False            False  False  False  \n",
       "753        False        False            False  False  False  \n",
       "754        False        False            False  False  False  \n",
       "755        False        False            False  False  False  \n",
       "756        False        False            False  False  False  \n",
       "757        False        False            False  False  False  \n",
       "758        False        False            False  False  False  \n",
       "759        False        False            False  False  False  \n",
       "760        False        False            False  False  False  \n",
       "761        False        False            False  False  False  \n",
       "762        False        False            False  False  False  \n",
       "763        False        False            False  False  False  \n",
       "764        False        False            False  False  False  \n",
       "765        False        False            False  False  False  \n",
       "766        False        False            False  False  False  \n",
       "767        False        False            False  False  False  \n",
       "\n",
       "[768 rows x 10 columns]"
      ]
     },
     "execution_count": 327,
     "metadata": {},
     "output_type": "execute_result"
    },
    {
     "data": {
      "text/plain": [
       "<matplotlib.axes._subplots.AxesSubplot at 0x1ffdcbd3320>"
      ]
     },
     "execution_count": 327,
     "metadata": {},
     "output_type": "execute_result"
    },
    {
     "data": {
      "image/png": "[encoded data removed]",
      "text/plain": [
       "<Figure size 576x396 with 1 Axes>"
      ]
     },
     "metadata": {},
     "output_type": "display_data"
    }
   ],
   "source": [
    "# Checking for missing data\n",
    "df_parameterData.isnull()\n",
    "\n",
    "# The data is small, there may not be missing data but we'll also plot to verify.\n",
    "\n",
    "# Plots of missing values by column and row in datasets.\n",
    "plt.style.use('seaborn-notebook')\n",
    "sns.set_style(\"darkgrid\")\n",
    "plt.subplot(121)\n",
    "data=df_parameterData.isnull().sum()  #try label for legend\n",
    "_ = plt.hist(df_parameterData, bins=20, label='parameter data')\n",
    "_ = plt.title('Counts of Missing Frequency by Column')\n",
    "_ = plt.xlabel('Counts of Missing by Column', fontweight='bold')\n",
    "_ = plt.ylabel('Frequency', fontweight='bold')\n",
    "_ = plt.legend(loc='upper right')\n",
    "plt.margins(0.02)"
   ]
  },
  {
   "cell_type": "markdown",
   "metadata": {},
   "source": [
    "## Exploratory Data Analysis\n",
    "\n",
    "One of the business objectives is to uncover insights from the data analysis. Therefore, our goal here is to better understanding of our data and explore how the features relate to each other particularly, how they affects the responses Y1 and Y2 attributes/features. After EDA, we can then convert the response variables to categorical data type for prediction."
   ]
  },
  {
   "cell_type": "code",
   "execution_count": 328,
   "metadata": {},
   "outputs": [
    {
     "data": {
      "text/plain": [
       "(array([ 64.,  64.,  64.,  64.,  64., 128.,  64.,  64.,  64., 128.]),\n",
       " array([514.5, 543.9, 573.3, 602.7, 632.1, 661.5, 690.9, 720.3, 749.7,\n",
       "        779.1, 808.5]),\n",
       " <a list of 10 Patch objects>)"
      ]
     },
     "execution_count": 328,
     "metadata": {},
     "output_type": "execute_result"
    },
    {
     "data": {
      "image/png": "[encoded data removed]",
      "text/plain": [
       "<Figure size 576x396 with 1 Axes>"
      ]
     },
     "metadata": {},
     "output_type": "display_data"
    }
   ],
   "source": [
    "# histogram plots of independent features.\n",
    "plt.hist(df_parameterData['surfaceArea'])\n",
    "plt.show()"
   ]
  },
  {
   "cell_type": "markdown",
   "metadata": {},
   "source": [
    "Due to the two spikes in the plot above, we'll use Line plots to illustrate the range and mode of this numerical variable. This can be very important for things like preventing bias and model overfit and even identifying collinearity."
   ]
  },
  {
   "cell_type": "code",
   "execution_count": 329,
   "metadata": {},
   "outputs": [
    {
     "data": {
      "text/plain": [
       "[<matplotlib.lines.Line2D at 0x1ffe627d550>]"
      ]
     },
     "execution_count": 329,
     "metadata": {},
     "output_type": "execute_result"
    },
    {
     "data": {
      "text/plain": [
       "Text(0.5, 0, 'Surface Area')"
      ]
     },
     "execution_count": 329,
     "metadata": {},
     "output_type": "execute_result"
    },
    {
     "data": {
      "text/plain": [
       "Text(0.5, 1.0, 'Distribution of Total Surface Area')"
      ]
     },
     "execution_count": 329,
     "metadata": {},
     "output_type": "execute_result"
    },
    {
     "data": {
      "image/png": "[encoded data removed]",
      "text/plain": [
       "<Figure size 576x396 with 1 Axes>"
      ]
     },
     "metadata": {},
     "output_type": "display_data"
    }
   ],
   "source": [
    "plt.plot(df_parameterData['surfaceArea'])\n",
    "plt.xlabel('Surface Area', fontsize=16, fontweight='bold')\n",
    "plt.title('Distribution of Total Surface Area', fontsize=20)\n",
    "plt.margins(0.02)\n",
    "plt.show()"
   ]
  },
  {
   "cell_type": "markdown",
   "metadata": {},
   "source": [
    "### Scatter Plots\n",
    "\n",
    "I'd like to compare certain two features (bivariate and multiple features (multivariate) to each other. This is very useful for understanding any possible relationships between the data, like surface area and roof area, though this relationship may not always point to any causal relationship.\n",
    "\n",
    "1. In order to create a comparison of any two features we must first set the two features equal to variables as follows: "
   ]
  },
  {
   "cell_type": "code",
   "execution_count": 330,
   "metadata": {},
   "outputs": [
    {
     "data": {
      "text/plain": [
       "<matplotlib.collections.PathCollection at 0x1ffe67aa7f0>"
      ]
     },
     "execution_count": 330,
     "metadata": {},
     "output_type": "execute_result"
    },
    {
     "data": {
      "image/png": "[encoded data removed]",
      "text/plain": [
       "<Figure size 576x396 with 1 Axes>"
      ]
     },
     "metadata": {},
     "output_type": "display_data"
    }
   ],
   "source": [
    "x = df_parameterData['surfaceArea']\n",
    "y = df_parameterData['roofArea']\n",
    "\n",
    "plt.scatter(x,y)\n",
    "plt.show()"
   ]
  },
  {
   "cell_type": "markdown",
   "metadata": {},
   "source": [
    "### Converting these dependent features to Integers so we can work it.\n",
    "\n",
    "Of most interest are features that are correlated with our dependent variables. We can get a feel for that by calculating the correlation of all features and then filtering that result to see the correlation between features and responses.\n"
   ]
  },
  {
   "cell_type": "code",
   "execution_count": 331,
   "metadata": {},
   "outputs": [
    {
     "name": "stdout",
     "output_type": "stream",
     "text": [
      "<class 'pandas.core.frame.DataFrame'>\n",
      "RangeIndex: 768 entries, 0 to 767\n",
      "Data columns (total 10 columns):\n",
      " relativeCompactness    768 non-null float64\n",
      "surfaceArea             768 non-null int64\n",
      "wallArea                768 non-null int64\n",
      "roofArea                768 non-null int64\n",
      "overallHeight           768 non-null int64\n",
      "Orientation             768 non-null int64\n",
      "glazingArea             768 non-null int64\n",
      "glazingAreaDist         768 non-null int64\n",
      "Y1                      768 non-null int64\n",
      "Y2                      768 non-null int64\n",
      "dtypes: float64(1), int64(9)\n",
      "memory usage: 60.1 KB\n"
     ]
    }
   ],
   "source": [
    "# Convert independent features to integers. This is a very long way to convert float to int but pandas is not responding.\n",
    "import pandas as pd\n",
    "import numpy as np\n",
    "\n",
    "#df_parameterData['relativeCompactness'] = df_parameterData['relativeCompactness'].astype(np.int64)\n",
    "df_parameterData['surfaceArea'] = df_parameterData['surfaceArea'].astype(np.int64)\n",
    "df_parameterData['glazingArea'] = df_parameterData['glazingArea'].astype(np.int64)\n",
    "df_parameterData['wallArea'] = df_parameterData['wallArea'].astype(np.int64)\n",
    "df_parameterData['roofArea'] = df_parameterData['roofArea'].astype(np.int64)\n",
    "df_parameterData['overallHeight'] = df_parameterData['overallHeight'].astype(np.int64)\n",
    "df_parameterData['Orientation'] = df_parameterData['Orientation'].astype(np.int64)\n",
    "df_parameterData['glazingAreaDist'] = df_parameterData['glazingAreaDist'].astype(np.int64)\n",
    "df_parameterData['Y1'] = df_parameterData['Y1'].astype(np.int64)\n",
    "df_parameterData['Y2'] = df_parameterData['Y2'].astype(np.int64)\n",
    "df_parameterData.info()"
   ]
  },
  {
   "cell_type": "code",
   "execution_count": 332,
   "metadata": {},
   "outputs": [
    {
     "name": "stdout",
     "output_type": "stream",
     "text": [
      "<class 'pandas.core.frame.DataFrame'>\n",
      "RangeIndex: 768 entries, 0 to 767\n",
      "Data columns (total 9 columns):\n",
      "surfaceArea        768 non-null int64\n",
      "wallArea           768 non-null int64\n",
      "roofArea           768 non-null int64\n",
      "overallHeight      768 non-null int64\n",
      "Orientation        768 non-null int64\n",
      "glazingArea        768 non-null int64\n",
      "glazingAreaDist    768 non-null int64\n",
      "Y1                 768 non-null int64\n",
      "Y2                 768 non-null int64\n",
      "dtypes: int64(9)\n",
      "memory usage: 54.1 KB\n"
     ]
    }
   ],
   "source": [
    "# drop relativeCompactness column due to limited data\n",
    "newData = df_parameterData.drop([df_parameterData.columns[0]], axis = 'columns')\n",
    "newData.info()"
   ]
  },
  {
   "cell_type": "code",
   "execution_count": 392,
   "metadata": {},
   "outputs": [
    {
     "data": {
      "text/plain": [
       "{'whiskers': [<matplotlib.lines.Line2D at 0x1ffeeed00f0>,\n",
       "  <matplotlib.lines.Line2D at 0x1ffeeede0b8>],\n",
       " 'caps': [<matplotlib.lines.Line2D at 0x1ffeeeeb940>,\n",
       "  <matplotlib.lines.Line2D at 0x1ffeeefa898>],\n",
       " 'boxes': [<matplotlib.lines.Line2D at 0x1ffeeed0a90>],\n",
       " 'medians': [<matplotlib.lines.Line2D at 0x1ffeef07eb8>],\n",
       " 'fliers': [<matplotlib.lines.Line2D at 0x1ffeef07ef0>],\n",
       " 'means': []}"
      ]
     },
     "execution_count": 392,
     "metadata": {},
     "output_type": "execute_result"
    },
    {
     "data": {
      "text/plain": [
       "Text(0.5, 1.0, 'Box Plot of surface Area')"
      ]
     },
     "execution_count": 392,
     "metadata": {},
     "output_type": "execute_result"
    },
    {
     "data": {
      "image/png": "[encoded data removed]",
      "text/plain": [
       "<Figure size 432x288 with 1 Axes>"
      ]
     },
     "metadata": {
      "needs_background": "light"
     },
     "output_type": "display_data"
    },
    {
     "data": {
      "text/plain": [
       "{'whiskers': [<matplotlib.lines.Line2D at 0x1ffef0b2668>,\n",
       "  <matplotlib.lines.Line2D at 0x1ffef0bff60>],\n",
       " 'caps': [<matplotlib.lines.Line2D at 0x1ffef0cbc18>,\n",
       "  <matplotlib.lines.Line2D at 0x1ffef0dc5c0>],\n",
       " 'boxes': [<matplotlib.lines.Line2D at 0x1ffef0b2cf8>],\n",
       " 'medians': [<matplotlib.lines.Line2D at 0x1ffef0e71d0>],\n",
       " 'fliers': [<matplotlib.lines.Line2D at 0x1ffef0e7240>],\n",
       " 'means': []}"
      ]
     },
     "execution_count": 392,
     "metadata": {},
     "output_type": "execute_result"
    },
    {
     "data": {
      "text/plain": [
       "Text(0.5, 1.0, 'Box Plot of Wall Area')"
      ]
     },
     "execution_count": 392,
     "metadata": {},
     "output_type": "execute_result"
    },
    {
     "data": {
      "image/png": "[encoded data removed]",
      "text/plain": [
       "<Figure size 432x288 with 1 Axes>"
      ]
     },
     "metadata": {
      "needs_background": "light"
     },
     "output_type": "display_data"
    },
    {
     "data": {
      "text/plain": [
       "{'whiskers': [<matplotlib.lines.Line2D at 0x1ffef295390>,\n",
       "  <matplotlib.lines.Line2D at 0x1ffef2a2588>],\n",
       " 'caps': [<matplotlib.lines.Line2D at 0x1ffef2b0e80>,\n",
       "  <matplotlib.lines.Line2D at 0x1ffef2bd4e0>],\n",
       " 'boxes': [<matplotlib.lines.Line2D at 0x1ffef295cc0>],\n",
       " 'medians': [<matplotlib.lines.Line2D at 0x1ffef2caa58>],\n",
       " 'fliers': [<matplotlib.lines.Line2D at 0x1ffef2d7748>],\n",
       " 'means': []}"
      ]
     },
     "execution_count": 392,
     "metadata": {},
     "output_type": "execute_result"
    },
    {
     "data": {
      "text/plain": [
       "Text(0.5, 1.0, 'Box Plot of Roof Area')"
      ]
     },
     "execution_count": 392,
     "metadata": {},
     "output_type": "execute_result"
    },
    {
     "data": {
      "image/png": "[encoded data removed]",
      "text/plain": [
       "<Figure size 432x288 with 1 Axes>"
      ]
     },
     "metadata": {
      "needs_background": "light"
     },
     "output_type": "display_data"
    },
    {
     "data": {
      "text/plain": [
       "{'whiskers': [<matplotlib.lines.Line2D at 0x1ffef46d630>,\n",
       "  <matplotlib.lines.Line2D at 0x1ffef479c18>],\n",
       " 'caps': [<matplotlib.lines.Line2D at 0x1ffef4875c0>,\n",
       "  <matplotlib.lines.Line2D at 0x1ffef4931d0>],\n",
       " 'boxes': [<matplotlib.lines.Line2D at 0x1ffef46d908>],\n",
       " 'medians': [<matplotlib.lines.Line2D at 0x1ffef493240>],\n",
       " 'fliers': [<matplotlib.lines.Line2D at 0x1ffef4a0828>],\n",
       " 'means': []}"
      ]
     },
     "execution_count": 392,
     "metadata": {},
     "output_type": "execute_result"
    },
    {
     "data": {
      "text/plain": [
       "Text(0.5, 1.0, 'Box Plot of Overall Height')"
      ]
     },
     "execution_count": 392,
     "metadata": {},
     "output_type": "execute_result"
    },
    {
     "data": {
      "image/png": "[encoded data removed]",
      "text/plain": [
       "<Figure size 432x288 with 1 Axes>"
      ]
     },
     "metadata": {
      "needs_background": "light"
     },
     "output_type": "display_data"
    },
    {
     "data": {
      "text/plain": [
       "{'whiskers': [<matplotlib.lines.Line2D at 0x1ffef66be48>,\n",
       "  <matplotlib.lines.Line2D at 0x1ffef678b38>],\n",
       " 'caps': [<matplotlib.lines.Line2D at 0x1ffef684160>,\n",
       "  <matplotlib.lines.Line2D at 0x1ffef6939b0>],\n",
       " 'boxes': [<matplotlib.lines.Line2D at 0x1ffef66b588>],\n",
       " 'medians': [<matplotlib.lines.Line2D at 0x1ffef693400>],\n",
       " 'fliers': [<matplotlib.lines.Line2D at 0x1ffef6a0cf8>],\n",
       " 'means': []}"
      ]
     },
     "execution_count": 392,
     "metadata": {},
     "output_type": "execute_result"
    },
    {
     "data": {
      "text/plain": [
       "Text(0.5, 1.0, 'Box Plot of Orientation')"
      ]
     },
     "execution_count": 392,
     "metadata": {},
     "output_type": "execute_result"
    },
    {
     "data": {
      "image/png": "[encoded data removed]",
      "text/plain": [
       "<Figure size 432x288 with 1 Axes>"
      ]
     },
     "metadata": {
      "needs_background": "light"
     },
     "output_type": "display_data"
    },
    {
     "data": {
      "text/plain": [
       "{'whiskers': [<matplotlib.lines.Line2D at 0x1ffef84f7b8>,\n",
       "  <matplotlib.lines.Line2D at 0x1ffef85b160>],\n",
       " 'caps': [<matplotlib.lines.Line2D at 0x1ffef86a710>,\n",
       "  <matplotlib.lines.Line2D at 0x1ffef86a0b8>],\n",
       " 'boxes': [<matplotlib.lines.Line2D at 0x1ffef84f7f0>],\n",
       " 'medians': [<matplotlib.lines.Line2D at 0x1ffef878f98>],\n",
       " 'fliers': [<matplotlib.lines.Line2D at 0x1ffef885908>],\n",
       " 'means': []}"
      ]
     },
     "execution_count": 392,
     "metadata": {},
     "output_type": "execute_result"
    },
    {
     "data": {
      "text/plain": [
       "Text(0.5, 1.0, 'Box Plot of Glazing Area')"
      ]
     },
     "execution_count": 392,
     "metadata": {},
     "output_type": "execute_result"
    },
    {
     "data": {
      "image/png": "[encoded data removed]",
      "text/plain": [
       "<Figure size 432x288 with 1 Axes>"
      ]
     },
     "metadata": {
      "needs_background": "light"
     },
     "output_type": "display_data"
    },
    {
     "data": {
      "text/plain": [
       "{'whiskers': [<matplotlib.lines.Line2D at 0x1ffefa0b908>,\n",
       "  <matplotlib.lines.Line2D at 0x1ffefa18b38>],\n",
       " 'caps': [<matplotlib.lines.Line2D at 0x1ffefa26b00>,\n",
       "  <matplotlib.lines.Line2D at 0x1ffefa34a58>],\n",
       " 'boxes': [<matplotlib.lines.Line2D at 0x1ffefa0b898>],\n",
       " 'medians': [<matplotlib.lines.Line2D at 0x1ffefa40fd0>],\n",
       " 'fliers': [<matplotlib.lines.Line2D at 0x1ffefa406a0>],\n",
       " 'means': []}"
      ]
     },
     "execution_count": 392,
     "metadata": {},
     "output_type": "execute_result"
    },
    {
     "data": {
      "text/plain": [
       "Text(0.5, 1.0, 'Box Plot of Glazing Area Dist')"
      ]
     },
     "execution_count": 392,
     "metadata": {},
     "output_type": "execute_result"
    },
    {
     "data": {
      "image/png": "[encoded data removed]",
      "text/plain": [
       "<Figure size 432x288 with 1 Axes>"
      ]
     },
     "metadata": {
      "needs_background": "light"
     },
     "output_type": "display_data"
    },
    {
     "data": {
      "text/plain": [
       "{'whiskers': [<matplotlib.lines.Line2D at 0x1ffefbe2ef0>,\n",
       "  <matplotlib.lines.Line2D at 0x1ffefbe2278>],\n",
       " 'caps': [<matplotlib.lines.Line2D at 0x1ffefbef898>,\n",
       "  <matplotlib.lines.Line2D at 0x1ffefbfe160>],\n",
       " 'boxes': [<matplotlib.lines.Line2D at 0x1ffefbd6f28>],\n",
       " 'medians': [<matplotlib.lines.Line2D at 0x1ffefc0b160>],\n",
       " 'fliers': [<matplotlib.lines.Line2D at 0x1ffefc18710>],\n",
       " 'means': []}"
      ]
     },
     "execution_count": 392,
     "metadata": {},
     "output_type": "execute_result"
    },
    {
     "data": {
      "text/plain": [
       "Text(0.5, 1.0, 'Box Plot of Y1')"
      ]
     },
     "execution_count": 392,
     "metadata": {},
     "output_type": "execute_result"
    },
    {
     "data": {
      "image/png": "[encoded data removed]",
      "text/plain": [
       "<Figure size 432x288 with 1 Axes>"
      ]
     },
     "metadata": {
      "needs_background": "light"
     },
     "output_type": "display_data"
    },
    {
     "data": {
      "text/plain": [
       "{'whiskers': [<matplotlib.lines.Line2D at 0x1ffefdc6ef0>,\n",
       "  <matplotlib.lines.Line2D at 0x1ffefdd3860>],\n",
       " 'caps': [<matplotlib.lines.Line2D at 0x1ffefde2470>,\n",
       "  <matplotlib.lines.Line2D at 0x1ffefdee128>],\n",
       " 'boxes': [<matplotlib.lines.Line2D at 0x1ffefdc6550>],\n",
       " 'medians': [<matplotlib.lines.Line2D at 0x1ffefdfc668>],\n",
       " 'fliers': [<matplotlib.lines.Line2D at 0x1ffefdfccf8>],\n",
       " 'means': []}"
      ]
     },
     "execution_count": 392,
     "metadata": {},
     "output_type": "execute_result"
    },
    {
     "data": {
      "text/plain": [
       "Text(0.5, 1.0, 'Box Plot of Y2')"
      ]
     },
     "execution_count": 392,
     "metadata": {},
     "output_type": "execute_result"
    },
    {
     "data": {
      "image/png": "[encoded data removed]",
      "text/plain": [
       "<Figure size 432x288 with 1 Axes>"
      ]
     },
     "metadata": {
      "needs_background": "light"
     },
     "output_type": "display_data"
    }
   ],
   "source": [
    "import matplotlib.pyplot as plt\n",
    "\n",
    "b1 = newData['surfaceArea']\n",
    "plt.boxplot(b1,0,'gD')\n",
    "plt.title('Box Plot of surface Area')\n",
    "plt.show()\n",
    "\n",
    "b2 = newData['wallArea']\n",
    "plt.boxplot(b2,1,'gD')\n",
    "plt.title('Box Plot of Wall Area')\n",
    "plt.show()\n",
    "\n",
    "b3 = newData['roofArea']\n",
    "plt.boxplot(b3,2,'gD')\n",
    "plt.title('Box Plot of Roof Area')\n",
    "plt.show()\n",
    "\n",
    "b4 = newData['overallHeight']\n",
    "plt.boxplot(b4,3,'gD')\n",
    "plt.title('Box Plot of Overall Height')\n",
    "plt.show()\n",
    "\n",
    "b5 = newData['Orientation']\n",
    "plt.boxplot(b5,4,'gD')\n",
    "plt.title('Box Plot of Orientation')\n",
    "plt.show()\n",
    "\n",
    "b6 = newData['glazingArea']\n",
    "plt.boxplot(b6,5,'gD')\n",
    "plt.title('Box Plot of Glazing Area')\n",
    "plt.show()\n",
    "\n",
    "b6 = newData['glazingAreaDist']\n",
    "plt.boxplot(b6,5,'gD')\n",
    "plt.title('Box Plot of Glazing Area Dist')\n",
    "plt.show()\n",
    "\n",
    "b6 = newData['Y1']\n",
    "plt.boxplot(b6,5,'gD')\n",
    "plt.title('Box Plot of Y1')\n",
    "plt.show()\n",
    "\n",
    "b6 = newData['Y2']\n",
    "plt.boxplot(b6,5,'gD')\n",
    "plt.title('Box Plot of Y2')\n",
    "plt.show()"
   ]
  },
  {
   "cell_type": "code",
   "execution_count": 335,
   "metadata": {},
   "outputs": [
    {
     "data": {
      "text/html": [
       "<div>\n",
       "<style scoped>\n",
       "    .dataframe tbody tr th:only-of-type {\n",
       "        vertical-align: middle;\n",
       "    }\n",
       "\n",
       "    .dataframe tbody tr th {\n",
       "        vertical-align: top;\n",
       "    }\n",
       "\n",
       "    .dataframe thead th {\n",
       "        text-align: right;\n",
       "    }\n",
       "</style>\n",
       "<table border=\"1\" class=\"dataframe\">\n",
       "  <thead>\n",
       "    <tr style=\"text-align: right;\">\n",
       "      <th></th>\n",
       "      <th>surfaceArea</th>\n",
       "      <th>wallArea</th>\n",
       "      <th>roofArea</th>\n",
       "      <th>overallHeight</th>\n",
       "      <th>Orientation</th>\n",
       "      <th>glazingArea</th>\n",
       "      <th>glazingAreaDist</th>\n",
       "      <th>Y1</th>\n",
       "      <th>Y2</th>\n",
       "    </tr>\n",
       "  </thead>\n",
       "  <tbody>\n",
       "    <tr>\n",
       "      <th>0</th>\n",
       "      <td>514</td>\n",
       "      <td>294</td>\n",
       "      <td>110</td>\n",
       "      <td>7</td>\n",
       "      <td>2</td>\n",
       "      <td>0</td>\n",
       "      <td>0</td>\n",
       "      <td>15</td>\n",
       "      <td>21</td>\n",
       "    </tr>\n",
       "    <tr>\n",
       "      <th>1</th>\n",
       "      <td>514</td>\n",
       "      <td>294</td>\n",
       "      <td>110</td>\n",
       "      <td>7</td>\n",
       "      <td>3</td>\n",
       "      <td>0</td>\n",
       "      <td>0</td>\n",
       "      <td>15</td>\n",
       "      <td>21</td>\n",
       "    </tr>\n",
       "    <tr>\n",
       "      <th>2</th>\n",
       "      <td>514</td>\n",
       "      <td>294</td>\n",
       "      <td>110</td>\n",
       "      <td>7</td>\n",
       "      <td>4</td>\n",
       "      <td>0</td>\n",
       "      <td>0</td>\n",
       "      <td>15</td>\n",
       "      <td>21</td>\n",
       "    </tr>\n",
       "    <tr>\n",
       "      <th>3</th>\n",
       "      <td>514</td>\n",
       "      <td>294</td>\n",
       "      <td>110</td>\n",
       "      <td>7</td>\n",
       "      <td>5</td>\n",
       "      <td>0</td>\n",
       "      <td>0</td>\n",
       "      <td>15</td>\n",
       "      <td>21</td>\n",
       "    </tr>\n",
       "    <tr>\n",
       "      <th>4</th>\n",
       "      <td>563</td>\n",
       "      <td>318</td>\n",
       "      <td>122</td>\n",
       "      <td>7</td>\n",
       "      <td>2</td>\n",
       "      <td>0</td>\n",
       "      <td>0</td>\n",
       "      <td>20</td>\n",
       "      <td>28</td>\n",
       "    </tr>\n",
       "  </tbody>\n",
       "</table>\n",
       "</div>"
      ],
      "text/plain": [
       "   surfaceArea  wallArea  roofArea  overallHeight  Orientation  glazingArea  \\\n",
       "0          514       294       110              7            2            0   \n",
       "1          514       294       110              7            3            0   \n",
       "2          514       294       110              7            4            0   \n",
       "3          514       294       110              7            5            0   \n",
       "4          563       318       122              7            2            0   \n",
       "\n",
       "   glazingAreaDist  Y1  Y2  \n",
       "0                0  15  21  \n",
       "1                0  15  21  \n",
       "2                0  15  21  \n",
       "3                0  15  21  \n",
       "4                0  20  28  "
      ]
     },
     "execution_count": 335,
     "metadata": {},
     "output_type": "execute_result"
    }
   ],
   "source": [
    "newData.head()"
   ]
  },
  {
   "cell_type": "code",
   "execution_count": 336,
   "metadata": {},
   "outputs": [],
   "source": [
    "#newDataDF = newData.drop([newData.columns[5]], axis = 'columns')\n",
    "#newDataDF.info()"
   ]
  },
  {
   "cell_type": "markdown",
   "metadata": {},
   "source": [
    "## Feature Engineering\n",
    "\n",
    "Correlation\n",
    "Using correlation to investigate and address any collinearity or checking for relationships between features for features selection or engineering. calculating correlation is a vital part of all Data Science projects and we will employ pandas or even numpy for this.\n",
    "\n",
    "Mostly interested in features that are highly correlated with our dependent variables- Heating Load and Cooling Load. We can get a feel for that by calculating the correlation of all features and then filtering that result to see the correlation between features and responses.\n"
   ]
  },
  {
   "cell_type": "code",
   "execution_count": 337,
   "metadata": {},
   "outputs": [
    {
     "name": "stdout",
     "output_type": "stream",
     "text": [
      "                  surfaceArea  wallArea  roofArea  overallHeight  Orientation  \\\n",
      "surfaceArea      1.000000e+00  0.194125  0.880644      -0.858288     0.000000   \n",
      "wallArea         1.941254e-01  1.000000 -0.293794       0.281577     0.000000   \n",
      "roofArea         8.806443e-01 -0.293794  1.000000      -0.971698     0.000000   \n",
      "overallHeight   -8.582879e-01  0.281577 -0.971698       1.000000     0.000000   \n",
      "Orientation      0.000000e+00  0.000000  0.000000       0.000000     1.000000   \n",
      "glazingAreaDist  3.557232e-16  0.000000  0.000000       0.000000     0.000000   \n",
      "Y1              -6.568426e-01  0.456887 -0.860238       0.888479    -0.002486   \n",
      "Y2              -6.722151e-01  0.428472 -0.861475       0.895374     0.014299   \n",
      "\n",
      "                 glazingAreaDist        Y1        Y2  \n",
      "surfaceArea         3.557232e-16 -0.656843 -0.672215  \n",
      "wallArea            0.000000e+00  0.456887  0.428472  \n",
      "roofArea            0.000000e+00 -0.860238 -0.861475  \n",
      "overallHeight       0.000000e+00  0.888479  0.895374  \n",
      "Orientation         0.000000e+00 -0.002486  0.014299  \n",
      "glazingAreaDist     1.000000e+00  0.088606  0.051281  \n",
      "Y1                  8.860592e-02  1.000000  0.975758  \n",
      "Y2                  5.128091e-02  0.975758  1.000000  \n"
     ]
    },
    {
     "data": {
      "text/plain": [
       "<matplotlib.axes._subplots.AxesSubplot at 0x1ffe94bd400>"
      ]
     },
     "execution_count": 337,
     "metadata": {},
     "output_type": "execute_result"
    },
    {
     "data": {
      "image/png": "[encoded data removed]",
      "text/plain": [
       "<Figure size 720x720 with 2 Axes>"
      ]
     },
     "metadata": {},
     "output_type": "display_data"
    }
   ],
   "source": [
    "# Calculate correlation between features\n",
    "def correlation_heatmap(newData):\n",
    "    corrMat = newData.corr()\n",
    "print(corrMat)\n",
    "\n",
    "fig, ax = plt.subplots(figsize=(10,10))\n",
    "sns.heatmap(corrMat, vmax=1.0, center=0, fmt='.2f',\n",
    "                square=True, linewidths=.5, annot=True, cbar_kws={\"shrink\": .70})\n",
    "plt.show();\n",
    "    \n",
    "correlation_heatmap(newData)"
   ]
  },
  {
   "cell_type": "markdown",
   "metadata": {},
   "source": [
    "Using Correlation, we can get some insights such as:\n",
    "\n",
    "1. One or multiple attributes depend on another attribute or a cause (not always) for another attribute.\n",
    "2. One or multiple attributes are associated with other attributes.\n",
    "\n",
    "Considering the following usefulness of correlation:\n",
    "- help in predicting one attribute from another, hence, great way to impute missing values.\n",
    "- can (sometimes) indicate the presence of a causal relationship.\n",
    "- used as a basic quantity for many modelling techniques.\n",
    "\n",
    "Let’s get closer look at how this correlation metrics can be useful here. If the dataset has perfectly positive or negative attributes then there is a high chance that the performance of the model will be impacted by a problem called — “Multicollinearity”. Multicollinearity happens when one predictor variable in a multiple regression model can be linearly predicted from the others with a high degree of accuracy. This can lead to skewed or misleading results.\n",
    "\n",
    "#### Positive Correlation: \n",
    "means that if feature A increases then feature B also increases or if feature A decreases then feature B also decreases. Both features move in tandem and they have a linear relationship. If there is a strong and perfect positive correlation, then the result is represented by a correlation score value of 0.9 or 1. From the table above, surfaceArea is strongly positively correlated with roofArea, wallArea, and glazingAreaDistribution. Intuitively, the roofArea may be caused by the surfaceArea. Additionally, overallHeight and glazingAreaDistribution are strongly positively correlated with both of our target variables (Y1 and Y2). These relationships may adversely affect the performamnce of our model, hence, overallHeight and glazingAreaDist will be deselected for model building.\n",
    "\n",
    "#### Negative Correlation: \n",
    "on the other hand means if feature A increases then feature B decreases and vice versa. If there is a strong negative correlation, it will be represented by a value of -1. Looking at our matrics table, surfaceArea is very strongly negatively correlated with both Y1 and Y2, thus will be removed.\n",
    "\n",
    "This leaves us with the followong features: roofArea, wallArea, and orientation.\n",
    "\n",
    "### Covariance\n",
    "\n",
    "Using correlation alone to understand the strength of relationships between any two variables isn't enough,can we ascertain the impact one feature has on another by calculating the Covariance to gauge the linear degree of change between the two variables. Simply put, we can use covariance to measure how changes in one feature are associated with changes in a second feature. This will be very important when studying the impact various features might have on heating load and cooling load responses. "
   ]
  },
  {
   "cell_type": "code",
   "execution_count": 338,
   "metadata": {},
   "outputs": [
    {
     "name": "stdout",
     "output_type": "stream",
     "text": [
      "                  surfaceArea     wallArea     roofArea  overallHeight  \\\n",
      "surfaceArea      7.759164e+03   747.713168  3493.246415    -151.280313   \n",
      "wallArea         7.477132e+02  1895.155150  -576.229465      24.531943   \n",
      "roofArea         3.493246e+03  -576.229465  2029.830508     -87.614081   \n",
      "overallHeight   -1.512803e+02    24.531943   -87.614081       4.005215   \n",
      "Orientation      0.000000e+00     0.000000     0.000000       0.000000   \n",
      "glazingAreaDist -1.778673e-15     0.000000     0.000000       0.000000   \n",
      "Y1              -5.850293e+02   199.215124  -390.895698      17.924381   \n",
      "Y2              -5.626748e+02   177.923729  -369.080183      17.032595   \n",
      "\n",
      "                 Orientation  glazingAreaDist          Y1          Y2  \n",
      "surfaceArea         0.000000    -1.778673e-15 -585.029335 -562.674815  \n",
      "wallArea            0.000000     0.000000e+00  199.215124  177.923729  \n",
      "roofArea            0.000000     0.000000e+00 -390.895698 -369.080183  \n",
      "overallHeight       0.000000     0.000000e+00   17.924381   17.032595  \n",
      "Orientation         1.251630     0.000000e+00   -0.011734    0.165580  \n",
      "glazingAreaDist     0.000000     2.405476e+00    1.387549    0.764179  \n",
      "Y1                 -0.011734     1.387549e+00  101.428048   93.425073  \n",
      "Y2                  0.165580     7.641786e-01   93.425073   90.523624  \n"
     ]
    }
   ],
   "source": [
    "# calculate covariance\n",
    "\n",
    "covMat = newDataDF.cov()\n",
    "print(covMat)"
   ]
  },
  {
   "cell_type": "code",
   "execution_count": 339,
   "metadata": {},
   "outputs": [],
   "source": [
    "# convert target variables to categorical factors\n",
    "#newDataDF['Y1'] = newDataDF.Y1.astype('category')"
   ]
  },
  {
   "cell_type": "code",
   "execution_count": 340,
   "metadata": {},
   "outputs": [
    {
     "name": "stdout",
     "output_type": "stream",
     "text": [
      "Summary of Selected Predictor Features\n"
     ]
    },
    {
     "data": {
      "text/html": [
       "<div>\n",
       "<style scoped>\n",
       "    .dataframe tbody tr th:only-of-type {\n",
       "        vertical-align: middle;\n",
       "    }\n",
       "\n",
       "    .dataframe tbody tr th {\n",
       "        vertical-align: top;\n",
       "    }\n",
       "\n",
       "    .dataframe thead th {\n",
       "        text-align: right;\n",
       "    }\n",
       "</style>\n",
       "<table border=\"1\" class=\"dataframe\">\n",
       "  <thead>\n",
       "    <tr style=\"text-align: right;\">\n",
       "      <th></th>\n",
       "      <th>wallArea</th>\n",
       "      <th>roofArea</th>\n",
       "      <th>overallHeight</th>\n",
       "      <th>Orientation</th>\n",
       "    </tr>\n",
       "  </thead>\n",
       "  <tbody>\n",
       "    <tr>\n",
       "      <th>0</th>\n",
       "      <td>294</td>\n",
       "      <td>110</td>\n",
       "      <td>7</td>\n",
       "      <td>2</td>\n",
       "    </tr>\n",
       "    <tr>\n",
       "      <th>1</th>\n",
       "      <td>294</td>\n",
       "      <td>110</td>\n",
       "      <td>7</td>\n",
       "      <td>3</td>\n",
       "    </tr>\n",
       "    <tr>\n",
       "      <th>2</th>\n",
       "      <td>294</td>\n",
       "      <td>110</td>\n",
       "      <td>7</td>\n",
       "      <td>4</td>\n",
       "    </tr>\n",
       "    <tr>\n",
       "      <th>3</th>\n",
       "      <td>294</td>\n",
       "      <td>110</td>\n",
       "      <td>7</td>\n",
       "      <td>5</td>\n",
       "    </tr>\n",
       "    <tr>\n",
       "      <th>4</th>\n",
       "      <td>318</td>\n",
       "      <td>122</td>\n",
       "      <td>7</td>\n",
       "      <td>2</td>\n",
       "    </tr>\n",
       "  </tbody>\n",
       "</table>\n",
       "</div>"
      ],
      "text/plain": [
       "   wallArea  roofArea  overallHeight  Orientation\n",
       "0       294       110              7            2\n",
       "1       294       110              7            3\n",
       "2       294       110              7            4\n",
       "3       294       110              7            5\n",
       "4       318       122              7            2"
      ]
     },
     "execution_count": 340,
     "metadata": {},
     "output_type": "execute_result"
    },
    {
     "name": "stdout",
     "output_type": "stream",
     "text": [
      "<class 'pandas.core.frame.DataFrame'>\n",
      "RangeIndex: 768 entries, 0 to 767\n",
      "Data columns (total 4 columns):\n",
      "wallArea         768 non-null int64\n",
      "roofArea         768 non-null int64\n",
      "overallHeight    768 non-null int64\n",
      "Orientation      768 non-null int64\n",
      "dtypes: int64(4)\n",
      "memory usage: 24.1 KB\n"
     ]
    }
   ],
   "source": [
    "# Select features for model building\n",
    "\n",
    "SEL_features = newData[['wallArea', 'roofArea', 'overallHeight', 'Orientation']]\n",
    "print('Summary of Selected Predictor Features')\n",
    "SEL_features.head()\n",
    "SEL_features.info()"
   ]
  },
  {
   "cell_type": "code",
   "execution_count": 341,
   "metadata": {},
   "outputs": [
    {
     "name": "stdout",
     "output_type": "stream",
     "text": [
      "Summary of Response Features\n"
     ]
    },
    {
     "data": {
      "text/html": [
       "<div>\n",
       "<style scoped>\n",
       "    .dataframe tbody tr th:only-of-type {\n",
       "        vertical-align: middle;\n",
       "    }\n",
       "\n",
       "    .dataframe tbody tr th {\n",
       "        vertical-align: top;\n",
       "    }\n",
       "\n",
       "    .dataframe thead th {\n",
       "        text-align: right;\n",
       "    }\n",
       "</style>\n",
       "<table border=\"1\" class=\"dataframe\">\n",
       "  <thead>\n",
       "    <tr style=\"text-align: right;\">\n",
       "      <th></th>\n",
       "      <th>Y1</th>\n",
       "      <th>Y2</th>\n",
       "    </tr>\n",
       "  </thead>\n",
       "  <tbody>\n",
       "    <tr>\n",
       "      <th>0</th>\n",
       "      <td>15</td>\n",
       "      <td>21</td>\n",
       "    </tr>\n",
       "    <tr>\n",
       "      <th>1</th>\n",
       "      <td>15</td>\n",
       "      <td>21</td>\n",
       "    </tr>\n",
       "    <tr>\n",
       "      <th>2</th>\n",
       "      <td>15</td>\n",
       "      <td>21</td>\n",
       "    </tr>\n",
       "    <tr>\n",
       "      <th>3</th>\n",
       "      <td>15</td>\n",
       "      <td>21</td>\n",
       "    </tr>\n",
       "    <tr>\n",
       "      <th>4</th>\n",
       "      <td>20</td>\n",
       "      <td>28</td>\n",
       "    </tr>\n",
       "  </tbody>\n",
       "</table>\n",
       "</div>"
      ],
      "text/plain": [
       "   Y1  Y2\n",
       "0  15  21\n",
       "1  15  21\n",
       "2  15  21\n",
       "3  15  21\n",
       "4  20  28"
      ]
     },
     "execution_count": 341,
     "metadata": {},
     "output_type": "execute_result"
    },
    {
     "name": "stdout",
     "output_type": "stream",
     "text": [
      "<class 'pandas.core.frame.DataFrame'>\n",
      "RangeIndex: 768 entries, 0 to 767\n",
      "Data columns (total 2 columns):\n",
      "Y1    768 non-null int64\n",
      "Y2    768 non-null int64\n",
      "dtypes: int64(2)\n",
      "memory usage: 12.1 KB\n"
     ]
    }
   ],
   "source": [
    "# Select Dependent Variables\n",
    "\n",
    "responseVar = newData[['Y1','Y2']]\n",
    "print('Summary of Response Features')\n",
    "responseVar.head()\n",
    "responseVar.info()"
   ]
  },
  {
   "cell_type": "code",
   "execution_count": 342,
   "metadata": {},
   "outputs": [
    {
     "data": {
      "text/html": [
       "<div>\n",
       "<style scoped>\n",
       "    .dataframe tbody tr th:only-of-type {\n",
       "        vertical-align: middle;\n",
       "    }\n",
       "\n",
       "    .dataframe tbody tr th {\n",
       "        vertical-align: top;\n",
       "    }\n",
       "\n",
       "    .dataframe thead th {\n",
       "        text-align: right;\n",
       "    }\n",
       "</style>\n",
       "<table border=\"1\" class=\"dataframe\">\n",
       "  <thead>\n",
       "    <tr style=\"text-align: right;\">\n",
       "      <th></th>\n",
       "      <th>wallArea</th>\n",
       "      <th>roofArea</th>\n",
       "      <th>overallHeight</th>\n",
       "      <th>Orientation</th>\n",
       "    </tr>\n",
       "  </thead>\n",
       "  <tbody>\n",
       "    <tr>\n",
       "      <th>0</th>\n",
       "      <td>294</td>\n",
       "      <td>110</td>\n",
       "      <td>7</td>\n",
       "      <td>2</td>\n",
       "    </tr>\n",
       "    <tr>\n",
       "      <th>1</th>\n",
       "      <td>294</td>\n",
       "      <td>110</td>\n",
       "      <td>7</td>\n",
       "      <td>3</td>\n",
       "    </tr>\n",
       "    <tr>\n",
       "      <th>2</th>\n",
       "      <td>294</td>\n",
       "      <td>110</td>\n",
       "      <td>7</td>\n",
       "      <td>4</td>\n",
       "    </tr>\n",
       "    <tr>\n",
       "      <th>3</th>\n",
       "      <td>294</td>\n",
       "      <td>110</td>\n",
       "      <td>7</td>\n",
       "      <td>5</td>\n",
       "    </tr>\n",
       "    <tr>\n",
       "      <th>4</th>\n",
       "      <td>318</td>\n",
       "      <td>122</td>\n",
       "      <td>7</td>\n",
       "      <td>2</td>\n",
       "    </tr>\n",
       "  </tbody>\n",
       "</table>\n",
       "</div>"
      ],
      "text/plain": [
       "   wallArea  roofArea  overallHeight  Orientation\n",
       "0       294       110              7            2\n",
       "1       294       110              7            3\n",
       "2       294       110              7            4\n",
       "3       294       110              7            5\n",
       "4       318       122              7            2"
      ]
     },
     "execution_count": 342,
     "metadata": {},
     "output_type": "execute_result"
    },
    {
     "data": {
      "text/html": [
       "<div>\n",
       "<style scoped>\n",
       "    .dataframe tbody tr th:only-of-type {\n",
       "        vertical-align: middle;\n",
       "    }\n",
       "\n",
       "    .dataframe tbody tr th {\n",
       "        vertical-align: top;\n",
       "    }\n",
       "\n",
       "    .dataframe thead th {\n",
       "        text-align: right;\n",
       "    }\n",
       "</style>\n",
       "<table border=\"1\" class=\"dataframe\">\n",
       "  <thead>\n",
       "    <tr style=\"text-align: right;\">\n",
       "      <th></th>\n",
       "      <th>Y1</th>\n",
       "      <th>Y2</th>\n",
       "    </tr>\n",
       "  </thead>\n",
       "  <tbody>\n",
       "    <tr>\n",
       "      <th>0</th>\n",
       "      <td>15</td>\n",
       "      <td>21</td>\n",
       "    </tr>\n",
       "    <tr>\n",
       "      <th>1</th>\n",
       "      <td>15</td>\n",
       "      <td>21</td>\n",
       "    </tr>\n",
       "    <tr>\n",
       "      <th>2</th>\n",
       "      <td>15</td>\n",
       "      <td>21</td>\n",
       "    </tr>\n",
       "    <tr>\n",
       "      <th>3</th>\n",
       "      <td>15</td>\n",
       "      <td>21</td>\n",
       "    </tr>\n",
       "    <tr>\n",
       "      <th>4</th>\n",
       "      <td>20</td>\n",
       "      <td>28</td>\n",
       "    </tr>\n",
       "  </tbody>\n",
       "</table>\n",
       "</div>"
      ],
      "text/plain": [
       "   Y1  Y2\n",
       "0  15  21\n",
       "1  15  21\n",
       "2  15  21\n",
       "3  15  21\n",
       "4  20  28"
      ]
     },
     "execution_count": 342,
     "metadata": {},
     "output_type": "execute_result"
    }
   ],
   "source": [
    "# prep the selected predictors and target variables for model data partition\n",
    "X = SEL_features\n",
    "y = responseVar\n",
    "\n",
    "X.head()\n",
    "y.head()"
   ]
  },
  {
   "cell_type": "markdown",
   "metadata": {},
   "source": [
    "## Data Partition\n",
    "\n",
    "Process Data Using Pipeline\n",
    "In preparation for doing some initial screening of learning algorithms, we’ll process our x_train data with our pipeline. After removing features along with highly correlated features, we’ve reduced our feature set to 4 from 8 features.\n",
    "\n",
    "For further processing and building predictive models, we want to split our training data into training and test sets. We want to train our models with the training set and assess the performance on unseen data which will be our test set created with train_test_split. "
   ]
  },
  {
   "cell_type": "code",
   "execution_count": 343,
   "metadata": {},
   "outputs": [],
   "source": [
    "# select train  and test sets, using 80/20 rule and set.seed at 500 using random_state\n",
    "from sklearn.model_selection import train_test_split\n",
    "\n",
    "# with Cross Validation\n",
    "X_train, X_test, y_train, y_test = train_test_split(X, y, test_size = 0.2, random_state = 500)"
   ]
  },
  {
   "cell_type": "code",
   "execution_count": 344,
   "metadata": {},
   "outputs": [
    {
     "data": {
      "text/plain": [
       "(614, 4)"
      ]
     },
     "execution_count": 344,
     "metadata": {},
     "output_type": "execute_result"
    },
    {
     "data": {
      "text/plain": [
       "(154, 4)"
      ]
     },
     "execution_count": 344,
     "metadata": {},
     "output_type": "execute_result"
    },
    {
     "data": {
      "text/plain": [
       "(614, 2)"
      ]
     },
     "execution_count": 344,
     "metadata": {},
     "output_type": "execute_result"
    },
    {
     "data": {
      "text/plain": [
       "(154, 2)"
      ]
     },
     "execution_count": 344,
     "metadata": {},
     "output_type": "execute_result"
    },
    {
     "data": {
      "text/html": [
       "<div>\n",
       "<style scoped>\n",
       "    .dataframe tbody tr th:only-of-type {\n",
       "        vertical-align: middle;\n",
       "    }\n",
       "\n",
       "    .dataframe tbody tr th {\n",
       "        vertical-align: top;\n",
       "    }\n",
       "\n",
       "    .dataframe thead th {\n",
       "        text-align: right;\n",
       "    }\n",
       "</style>\n",
       "<table border=\"1\" class=\"dataframe\">\n",
       "  <thead>\n",
       "    <tr style=\"text-align: right;\">\n",
       "      <th></th>\n",
       "      <th>Y1</th>\n",
       "      <th>Y2</th>\n",
       "    </tr>\n",
       "  </thead>\n",
       "  <tbody>\n",
       "    <tr>\n",
       "      <th>count</th>\n",
       "      <td>154.000000</td>\n",
       "      <td>154.000000</td>\n",
       "    </tr>\n",
       "    <tr>\n",
       "      <th>mean</th>\n",
       "      <td>21.902597</td>\n",
       "      <td>24.227273</td>\n",
       "    </tr>\n",
       "    <tr>\n",
       "      <th>std</th>\n",
       "      <td>9.853681</td>\n",
       "      <td>9.352587</td>\n",
       "    </tr>\n",
       "    <tr>\n",
       "      <th>min</th>\n",
       "      <td>6.000000</td>\n",
       "      <td>11.000000</td>\n",
       "    </tr>\n",
       "    <tr>\n",
       "      <th>25%</th>\n",
       "      <td>13.000000</td>\n",
       "      <td>15.000000</td>\n",
       "    </tr>\n",
       "    <tr>\n",
       "      <th>50%</th>\n",
       "      <td>19.000000</td>\n",
       "      <td>22.000000</td>\n",
       "    </tr>\n",
       "    <tr>\n",
       "      <th>75%</th>\n",
       "      <td>29.000000</td>\n",
       "      <td>32.000000</td>\n",
       "    </tr>\n",
       "    <tr>\n",
       "      <th>max</th>\n",
       "      <td>42.000000</td>\n",
       "      <td>48.000000</td>\n",
       "    </tr>\n",
       "  </tbody>\n",
       "</table>\n",
       "</div>"
      ],
      "text/plain": [
       "               Y1          Y2\n",
       "count  154.000000  154.000000\n",
       "mean    21.902597   24.227273\n",
       "std      9.853681    9.352587\n",
       "min      6.000000   11.000000\n",
       "25%     13.000000   15.000000\n",
       "50%     19.000000   22.000000\n",
       "75%     29.000000   32.000000\n",
       "max     42.000000   48.000000"
      ]
     },
     "execution_count": 344,
     "metadata": {},
     "output_type": "execute_result"
    }
   ],
   "source": [
    "# verifying content of predictors and target\n",
    "\n",
    "X_train.shape\n",
    "X_test.shape\n",
    "y_train.shape\n",
    "y_test.shape\n",
    "y_test.describe()"
   ]
  },
  {
   "cell_type": "markdown",
   "metadata": {},
   "source": [
    "## Model Selection\n",
    "As part of the model selection effort, we’ll compare the cross-validated performance of several learning algorithms. From that list we’ll pick the most optimized models and improve its performance by tuning hyperparameters. To accomplish the initial screen of algorithms, we’ll fit into our models the training data and assess the performances by comparing the mean, RMSE and the standard deviation across the 10 folds of cross-validation. Scikit-learn’s cross_val_score() function and 10-fold cross-validation to help us rank order three algorithms.\n",
    "\n",
    "## Model"
   ]
  },
  {
   "cell_type": "code",
   "execution_count": 360,
   "metadata": {},
   "outputs": [],
   "source": [
    "# Linear Regression - Tuning Parameters and LR Model Definition\n",
    "\n",
    "from sklearn.linear_model import LinearRegression\n",
    "\n",
    "# Other Models\n",
    "modelSVR = SVR()\n",
    "modelRF = RandomForestRegressor()"
   ]
  },
  {
   "cell_type": "code",
   "execution_count": 368,
   "metadata": {},
   "outputs": [
    {
     "data": {
      "text/plain": [
       "LinearRegression(copy_X=True, fit_intercept=True, n_jobs=None, normalize=False)"
      ]
     },
     "execution_count": 368,
     "metadata": {},
     "output_type": "execute_result"
    },
    {
     "name": "stdout",
     "output_type": "stream",
     "text": [
      "Scores: [4.23612054 3.73641461 4.11849121 4.47863913 4.08083574 3.911811\n",
      " 3.75535025 3.73120425 4.22069766 3.60162674]\n",
      "Mean: 3.9871191145155676\n",
      "Standard deviation: 0.26842720865520386\n"
     ]
    }
   ],
   "source": [
    "# Linear Regression Model Fitting and Scoring\n",
    "\n",
    "modelLM = LinearRegression()\n",
    "modelLM.fit(X_train,y_train)\n",
    "\n",
    "# Cross-validated Random Forest regression model\n",
    "scores = cross_val_score(modelLM,\n",
    "                         X_train,\n",
    "                         y_train,\n",
    "                         scoring='neg_mean_squared_error', \n",
    "                         cv=10,\n",
    "                         n_jobs=-1)\n",
    "\n",
    "lm_rmse_scores = np.sqrt(-scores)\n",
    "display_scores(lm_rmse_scores)\n"
   ]
  },
  {
   "cell_type": "code",
   "execution_count": 358,
   "metadata": {},
   "outputs": [],
   "source": [
    "# Function to asses performance of regression models\n",
    "def display_scores(scores):\n",
    "    print('Scores:', scores)\n",
    "    print('Mean:', scores.mean())\n",
    "    print('Standard deviation:', scores.std())"
   ]
  },
  {
   "cell_type": "code",
   "execution_count": 370,
   "metadata": {},
   "outputs": [
    {
     "name": "stderr",
     "output_type": "stream",
     "text": [
      "C:\\ProgramData\\Anaconda3\\lib\\site-packages\\sklearn\\ensemble\\forest.py:245: FutureWarning: The default value of n_estimators will change from 10 in version 0.20 to 100 in 0.22.\n",
      "  \"10 in version 0.20 to 100 in 0.22.\", FutureWarning)\n"
     ]
    },
    {
     "data": {
      "text/plain": [
       "RandomForestRegressor(bootstrap=True, criterion='mse', max_depth=None,\n",
       "                      max_features='auto', max_leaf_nodes=None,\n",
       "                      min_impurity_decrease=0.0, min_impurity_split=None,\n",
       "                      min_samples_leaf=1, min_samples_split=2,\n",
       "                      min_weight_fraction_leaf=0.0, n_estimators=10,\n",
       "                      n_jobs=None, oob_score=False, random_state=500, verbose=0,\n",
       "                      warm_start=False)"
      ]
     },
     "execution_count": 370,
     "metadata": {},
     "output_type": "execute_result"
    },
    {
     "name": "stdout",
     "output_type": "stream",
     "text": [
      "Scores: [2.91032431 2.69072934 3.32357644 3.27039202 3.24055006 2.98793566\n",
      " 3.15016177 3.3781116  3.00769173 2.88611976]\n",
      "Mean: 3.0845592690255157\n",
      "Standard deviation: 0.21131862498990978\n"
     ]
    }
   ],
   "source": [
    "# Random Forest Regression Model Fitting and Scoring\n",
    "#Model Fitting\n",
    "\n",
    "modelRF = RandomForestRegressor(random_state=500)\n",
    "modelRF.fit(X_train,y_train)\n",
    "\n",
    "# Cross-validated Random Forest regression model\n",
    "scores = cross_val_score(modelRF,\n",
    "                         X_train,\n",
    "                         y_train,\n",
    "                         scoring='neg_mean_squared_error', \n",
    "                         cv=10,\n",
    "                         n_jobs=-1)\n",
    "\n",
    "rf_rmse_scores = np.sqrt(-scores)\n",
    "display_scores(rf_rmse_scores)"
   ]
  },
  {
   "cell_type": "code",
   "execution_count": 371,
   "metadata": {},
   "outputs": [
    {
     "data": {
      "text/plain": [
       "KNeighborsRegressor(algorithm='auto', leaf_size=30, metric='minkowski',\n",
       "                    metric_params=None, n_jobs=None, n_neighbors=5, p=2,\n",
       "                    weights='uniform')"
      ]
     },
     "execution_count": 371,
     "metadata": {},
     "output_type": "execute_result"
    },
    {
     "name": "stderr",
     "output_type": "stream",
     "text": [
      "C:\\ProgramData\\Anaconda3\\lib\\site-packages\\sklearn\\model_selection\\_split.py:1978: FutureWarning: The default value of cv will change from 3 to 5 in version 0.22. Specify it explicitly to silence this warning.\n",
      "  warnings.warn(CV_WARNING, FutureWarning)\n",
      "C:\\ProgramData\\Anaconda3\\lib\\site-packages\\sklearn\\base.py:420: FutureWarning: The default value of multioutput (not exposed in score method) will change from 'variance_weighted' to 'uniform_average' in 0.23 to keep consistent with 'metrics.r2_score'. To specify the default value manually and avoid the warning, please either call 'metrics.r2_score' directly or make a custom scorer with 'metrics.make_scorer' (the built-in scorer 'r2' uses multioutput='uniform_average').\n",
      "  \"multioutput='uniform_average').\", FutureWarning)\n",
      "C:\\ProgramData\\Anaconda3\\lib\\site-packages\\sklearn\\base.py:420: FutureWarning: The default value of multioutput (not exposed in score method) will change from 'variance_weighted' to 'uniform_average' in 0.23 to keep consistent with 'metrics.r2_score'. To specify the default value manually and avoid the warning, please either call 'metrics.r2_score' directly or make a custom scorer with 'metrics.make_scorer' (the built-in scorer 'r2' uses multioutput='uniform_average').\n",
      "  \"multioutput='uniform_average').\", FutureWarning)\n",
      "C:\\ProgramData\\Anaconda3\\lib\\site-packages\\sklearn\\base.py:420: FutureWarning: The default value of multioutput (not exposed in score method) will change from 'variance_weighted' to 'uniform_average' in 0.23 to keep consistent with 'metrics.r2_score'. To specify the default value manually and avoid the warning, please either call 'metrics.r2_score' directly or make a custom scorer with 'metrics.make_scorer' (the built-in scorer 'r2' uses multioutput='uniform_average').\n",
      "  \"multioutput='uniform_average').\", FutureWarning)\n"
     ]
    },
    {
     "name": "stdout",
     "output_type": "stream",
     "text": [
      "[0.89480756 0.88542448 0.8954801 ]\n",
      "Scores: [2.93867427 2.91658218 3.48137904 3.3020033  3.28443922 3.04464055\n",
      " 3.16253685 3.45258278 3.05876864 2.9155884 ]\n",
      "Mean: 3.1557195228887283\n",
      "Standard deviation: 0.20393439467819588\n"
     ]
    }
   ],
   "source": [
    "# KNN Regressor\n",
    "# Cross-validated KNN regression model\n",
    "\n",
    "from sklearn.neighbors import KNeighborsRegressor\n",
    "\n",
    "# Cross-validated K-nearest neighbors regression model\n",
    "knn_Reg = KNeighborsRegressor()\n",
    "knn_Reg.fit(X_train,y_train)\n",
    "print(cross_val_score(knn_Reg, X_train, y_train)) \n",
    "scores = cross_val_score(knn_Reg,\n",
    "                         X_train,\n",
    "                         y_train,\n",
    "                         scoring='neg_mean_squared_error', \n",
    "                         cv=10,\n",
    "                         n_jobs=-1)\n",
    "\n",
    "knn_rmse_scores = np.sqrt(-scores)\n",
    "display_scores(knn_rmse_scores)"
   ]
  },
  {
   "cell_type": "markdown",
   "metadata": {},
   "source": [
    "## Model Selection\n",
    "\n",
    "Finally, we’ll make predictions on our test set and assess the RMSE. With the RF model the RMSE which compared favorably to the other models.\n",
    "\n",
    "## Making Predictions"
   ]
  },
  {
   "cell_type": "code",
   "execution_count": 372,
   "metadata": {},
   "outputs": [
    {
     "name": "stdout",
     "output_type": "stream",
     "text": [
      "R Squared: 0.893\n",
      "RMSE: 3.136\n"
     ]
    }
   ],
   "source": [
    "# Use RF model to make predictionns on the unseen test data\n",
    "\n",
    "pred = modelRF.predict(X_test)\n",
    "predRsquared = r2_score(y_test, pred)\n",
    "rmse = sqrt(mean_squared_error(y_test, pred))\n",
    "print('R Squared: %.3f' % predRsquared)\n",
    "print('RMSE: %.3f' % rmse)\n",
    "\n",
    "#mse_scores= mean_squared_error(y_test, pred)\n",
    "#rmse_scores=np.sqrt(mse_scores)\n",
    "#print(rmse_scores.mean())\n",
    "\n"
   ]
  },
  {
   "cell_type": "code",
   "execution_count": 383,
   "metadata": {},
   "outputs": [
    {
     "data": {
      "image/png": "[encoded data removed]",
      "text/plain": [
       "<Figure size 576x396 with 1 Axes>"
      ]
     },
     "metadata": {},
     "output_type": "display_data"
    }
   ],
   "source": [
    "# We can visualize our prediction results by plotting the predicted versus actual values.\n",
    "\n",
    "# plot of predicted vs actual values for RF model\n",
    "plt.style.use('seaborn-notebook')\n",
    "sns.set_style(\"darkgrid\")\n",
    "_ = plt.plot(y_test, pred, marker='.', color= 'green', linestyle='none')\n",
    "_ = plt.plot([y_test.min(), y_test.max()], [y_test.min(), y_test.max()], 'k--', lw=2, alpha=0.8)\n",
    "_ = plt.title('Predicted vs Ground Truth for RF Model', fontsize=20)\n",
    "_ = plt.xlabel('Ground Truth',fontweight='bold', fontsize=16)\n",
    "_ = plt.ylabel('Predicted Load', fontweight='bold', fontsize=16)\n",
    "_ =  plt.ylim(0,100)\n",
    "plt.margins(0.02)\n",
    "plt.show();"
   ]
  },
  {
   "cell_type": "markdown",
   "metadata": {},
   "source": [
    "## Feature Importance\n",
    "\n",
    "Finding Important Features in Scikit-learn\n",
    "Finding important features or selecting features in the dataset. In scikit-learn, we'll perform this task in the following steps:\n",
    "\n",
    "create a random forests model.\n",
    "use the feature importance variable to see feature importance scores.\n",
    "visualize these scores using the seaborn library."
   ]
  },
  {
   "cell_type": "code",
   "execution_count": 388,
   "metadata": {},
   "outputs": [
    {
     "data": {
      "text/plain": [
       "overallHeight    0.517895\n",
       "roofArea         0.355373\n",
       "wallArea         0.120130\n",
       "Orientation      0.006601\n",
       "dtype: float64"
      ]
     },
     "execution_count": 388,
     "metadata": {},
     "output_type": "execute_result"
    }
   ],
   "source": [
    "import pandas as pd\n",
    "feature_imp = pd.Series(modelRF.feature_importances_,index=X.columns).sort_values(ascending=False)\n",
    "feature_imp"
   ]
  },
  {
   "cell_type": "code",
   "execution_count": 391,
   "metadata": {},
   "outputs": [
    {
     "data": {
      "text/plain": [
       "<matplotlib.axes._subplots.AxesSubplot at 0x1ffebf18c18>"
      ]
     },
     "execution_count": 391,
     "metadata": {},
     "output_type": "execute_result"
    },
    {
     "data": {
      "text/plain": [
       "Text(0.5, 0, 'Feature Importance Score')"
      ]
     },
     "execution_count": 391,
     "metadata": {},
     "output_type": "execute_result"
    },
    {
     "data": {
      "text/plain": [
       "Text(0, 0.5, 'Features')"
      ]
     },
     "execution_count": 391,
     "metadata": {},
     "output_type": "execute_result"
    },
    {
     "data": {
      "text/plain": [
       "Text(0.5, 1.0, 'Visualizing Important Features')"
      ]
     },
     "execution_count": 391,
     "metadata": {},
     "output_type": "execute_result"
    },
    {
     "name": "stderr",
     "output_type": "stream",
     "text": [
      "No handles with labels found to put in legend.\n"
     ]
    },
    {
     "data": {
      "text/plain": [
       "<matplotlib.legend.Legend at 0x1ffeac7a6a0>"
      ]
     },
     "execution_count": 391,
     "metadata": {},
     "output_type": "execute_result"
    },
    {
     "data": {
      "image/png": "[encoded data removed]",
      "text/plain": [
       "<Figure size 432x288 with 1 Axes>"
      ]
     },
     "metadata": {
      "needs_background": "light"
     },
     "output_type": "display_data"
    }
   ],
   "source": [
    "# Plot feature importances for RF model\n",
    "import matplotlib.pyplot as plt\n",
    "import seaborn as sns\n",
    "%matplotlib inline\n",
    "\n",
    "# Creating a bar plot\n",
    "sns.barplot(x=feature_imp, y=feature_imp.index)\n",
    "\n",
    "# Add labels to your graph\n",
    "plt.xlabel('Feature Importance Score')\n",
    "plt.ylabel('Features')\n",
    "plt.title(\"Visualizing Important Features\")\n",
    "plt.legend()\n",
    "plt.show()"
   ]
  },
  {
   "cell_type": "markdown",
   "metadata": {},
   "source": [
    "### Prediction on Test Set\n",
    "The RF regression model showed the best performance on unseen data than other models.\n",
    "\n",
    "\n",
    "## Conclusion\n",
    "\n",
    "In conclusion, predictive regression models were built to predict Heating Load Cooling Load. The best performing model was the Random Forest regression model with a RMSE on unseen test data of 3.2 and R-Squared of 0.89. Aside from building a high-performance model, this task also focused on which of the building parameters (attributes) are best for building an optimized model for prediction of Heating Load  and Cooling Load responses.\n",
    "\n",
    "Initial EDA determined that many of the features were either highly positively or negatively correlated with Heating Load and Cooling Load. Counter intuitively, features (parameters) like Surface Areas, Glazing Area, Galzing Area Distribution, were either very highly positively or negatively correlated to the responses, hence could not help to predict building efficiency. Interestingly, features that showed the least correlation with responses were features Orientation and Wall Area but were also least importance to the model. Overall Heaight appeared to have the most impact on Heating Load and Cooling Load, hence was found by Random Forest model to be most important parameter.\n",
    "\n"
   ]
  }
 ],
 "metadata": {
  "kernelspec": {
   "display_name": "Python 3",
   "language": "python",
   "name": "python3"
  },
  "language_info": {
   "codemirror_mode": {
    "name": "ipython",
    "version": 3
   },
   "file_extension": ".py",
   "mimetype": "text/x-python",
   "name": "python",
   "nbconvert_exporter": "python",
   "pygments_lexer": "ipython3",
   "version": "3.7.3"
  }
 },
 "nbformat": 4,
 "nbformat_minor": 2
}
